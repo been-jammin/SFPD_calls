{
 "cells": [
  {
   "cell_type": "code",
   "execution_count": 5,
   "metadata": {},
   "outputs": [],
   "source": [
    "import pandas as pd\n",
    "from sodapy import Socrata\n",
    "import datetime\n",
    "import matplotlib.pyplot as plt\n",
    "import numpy as np"
   ]
  },
  {
   "cell_type": "code",
   "execution_count": 6,
   "metadata": {},
   "outputs": [],
   "source": [
    "domain = 'data.sfgov.org'\n",
    "app_token = 'TQqk1kfcIaDLukBlSTtay4NNz'\n",
    "\n",
    "client = Socrata(\"data.sfgov.org\", app_token, timeout = 30)\n",
    "\n",
    "# dictionaries by sodapy.\n",
    "dataset = 'nuek-vuh3'\n",
    "metadata = client.get_metadata(dataset)\n",
    "columns = metadata.get('columns')\n",
    "fieldNames = [col['fieldName'] for col in columns]"
   ]
  },
  {
   "cell_type": "code",
   "execution_count": 7,
   "metadata": {},
   "outputs": [],
   "source": [
    "def getAll(domain, app_token, dataset,fieldList,limit):\n",
    "    results = list()\n",
    "    for i in range(limit):\n",
    "        client = Socrata(domain, app_token, timeout = 30)\n",
    "        incoming = client.get(dataset, select = fieldList)\n",
    "        results.append(incoming)\n",
    "       \n",
    "        if len(incoming)<1000:\n",
    "            break\n",
    "\n",
    "        pctComplete = 100* (len(results)/limit)\n",
    "        if pctComplete % 10==0:\n",
    "            print('percent complete :',pctComplete,  ' %')\n",
    "            \n",
    "    return results"
   ]
  },
  {
   "cell_type": "code",
   "execution_count": 8,
   "metadata": {},
   "outputs": [],
   "source": [
    "def jsonToDF(json):\n",
    "    results_df = pd.DataFrame()\n",
    "    for i in range(len(json)):\n",
    "        results_df= results_df.append(pd.DataFrame.from_records(json[i]))\n",
    "    return results_df"
   ]
  },
  {
   "cell_type": "code",
   "execution_count": 9,
   "metadata": {},
   "outputs": [],
   "source": [
    "dataTypeDict = {'dispatch_dttm':'datetime64',\n",
    "                'response_dttm':'datetime64',\n",
    "                'call_Type':'str',\n",
    "                'fire_prevention_district':'str',\n",
    "                'neighborhoods_analysis_boundaries':'str',\n",
    "                'number_of_alarms':'int',\n",
    "                'original_priority':'str',\n",
    "                'priority':'str',\n",
    "                'unit_type':'str'}  "
   ]
  },
  {
   "cell_type": "code",
   "execution_count": 11,
   "metadata": {},
   "outputs": [
    {
     "name": "stdout",
     "output_type": "stream",
     "text": [
      "percent complete : 10.0  %\n",
      "percent complete : 20.0  %\n",
      "percent complete : 30.0  %\n",
      "percent complete : 40.0  %\n",
      "percent complete : 50.0  %\n",
      "percent complete : 60.0  %\n",
      "percent complete : 70.0  %\n",
      "percent complete : 80.0  %\n",
      "percent complete : 90.0  %\n",
      "percent complete : 100.0  %\n"
     ]
    },
    {
     "data": {
      "text/plain": [
       "dispatch_dttm                        datetime64[ns]\n",
       "response_dttm                        datetime64[ns]\n",
       "call_Type                                    object\n",
       "fire_prevention_district                     object\n",
       "neighborhoods_analysis_boundaries            object\n",
       "number_of_alarms                              int32\n",
       "original_priority                            object\n",
       "priority                                     object\n",
       "unit_type                                    object\n",
       "response duration                           float64\n",
       "dtype: object"
      ]
     },
     "execution_count": 11,
     "metadata": {},
     "output_type": "execute_result"
    }
   ],
   "source": [
    "fieldList = 'dispatch_dttm, response_dttm, call_Type, fire_prevention_district, neighborhoods_analysis_boundaries, number_of_alarms, original_priority, priority, unit_type'\n",
    "\n",
    "results = getAll(domain,app_token,dataset,fieldList,limit=10)\n",
    "results_df = jsonToDF(results)        \n",
    "\n",
    "\n",
    "results_df = results_df.astype(dataTypeDict)\n",
    "results_df['response duration'] = results_df['response_dttm'] - results_df['dispatch_dttm']\n",
    "results_df['response duration'] = results_df['response duration']/np.timedelta64(1,'s')/60\n",
    "results_df.dtypes"
   ]
  },
  {
   "cell_type": "code",
   "execution_count": null,
   "metadata": {},
   "outputs": [],
   "source": []
  }
 ],
 "metadata": {
  "kernelspec": {
   "display_name": "Python 3",
   "language": "python",
   "name": "python3"
  },
  "language_info": {
   "codemirror_mode": {
    "name": "ipython",
    "version": 3
   },
   "file_extension": ".py",
   "mimetype": "text/x-python",
   "name": "python",
   "nbconvert_exporter": "python",
   "pygments_lexer": "ipython3",
   "version": "3.7.4"
  }
 },
 "nbformat": 4,
 "nbformat_minor": 2
}
