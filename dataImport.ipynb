{
 "cells": [
  {
   "cell_type": "markdown",
   "metadata": {},
   "source": [
    "first, let's import all packages needed for this section. Socrata is the library for using sodapy, which will connect us to the data source"
   ]
  },
  {
   "cell_type": "code",
   "execution_count": 18,
   "metadata": {},
   "outputs": [],
   "source": [
    "import pandas as pd\n",
    "from sodapy import Socrata\n",
    "import datetime\n",
    "import matplotlib.pyplot as plt\n",
    "import numpy as np"
   ]
  },
  {
   "cell_type": "markdown",
   "metadata": {},
   "source": [
    "set up connection to data source. the app token is associated with an individual user's application, so mine is hidden. but they are free to obtain via data sfdata\n",
    "\n",
    "the ID for the \"fire-department-calls-for-service\" dataset is 'nuek-vuh3' whihc sets up a connection to that dataset specifically"
   ]
  },
  {
   "cell_type": "code",
   "execution_count": 19,
   "metadata": {},
   "outputs": [],
   "source": [
    "domain = 'data.sfgov.org'\n",
    "app_token = 'rrmNGKZrjY8MyQ07z8MxjVxHs'"
   ]
  },
  {
   "cell_type": "code",
   "execution_count": 20,
   "metadata": {},
   "outputs": [],
   "source": [
    "client = Socrata(\"data.sfgov.org\", app_token, timeout = 30)\n",
    "dataset = 'nuek-vuh3'"
   ]
  },
  {
   "cell_type": "markdown",
   "metadata": {},
   "source": [
    "let's start by making sure we're in the right place. we can obtain the metadata for the dataset using the get_metadata() method. then store the names of all the fields in a list, so we can pick for them later"
   ]
  },
  {
   "cell_type": "code",
   "execution_count": 21,
   "metadata": {
    "scrolled": true
   },
   "outputs": [
    {
     "data": {
      "text/plain": [
       "['call_number',\n",
       " 'unit_id',\n",
       " 'incident_number',\n",
       " 'call_type',\n",
       " 'call_date',\n",
       " 'watch_date',\n",
       " 'received_dttm',\n",
       " 'entry_dttm',\n",
       " 'dispatch_dttm',\n",
       " 'response_dttm',\n",
       " 'on_scene_dttm',\n",
       " 'transport_dttm',\n",
       " 'hospital_dttm',\n",
       " 'call_final_disposition',\n",
       " 'available_dttm',\n",
       " 'address',\n",
       " 'city',\n",
       " 'zipcode_of_incident',\n",
       " 'battalion',\n",
       " 'station_area',\n",
       " 'box',\n",
       " 'original_priority',\n",
       " 'priority',\n",
       " 'final_priority',\n",
       " 'als_unit',\n",
       " 'call_type_group',\n",
       " 'number_of_alarms',\n",
       " 'unit_type',\n",
       " 'unit_sequence_in_call_dispatch',\n",
       " 'fire_prevention_district',\n",
       " 'supervisor_district',\n",
       " 'neighborhoods_analysis_boundaries',\n",
       " 'location',\n",
       " 'rowid',\n",
       " ':@computed_region_rxqg_mtj9',\n",
       " ':@computed_region_yftq_j783',\n",
       " ':@computed_region_jx4q_fizf',\n",
       " ':@computed_region_ajp5_b2md',\n",
       " ':@computed_region_bh8s_q3mv',\n",
       " ':@computed_region_fyvs_ahh9',\n",
       " ':@computed_region_p5aj_wyqh',\n",
       " ':@computed_region_n4xg_c4py',\n",
       " ':@computed_region_fcz8_est8',\n",
       " ':@computed_region_h4ep_8xdi']"
      ]
     },
     "execution_count": 21,
     "metadata": {},
     "output_type": "execute_result"
    }
   ],
   "source": [
    "\n",
    "metadata = client.get_metadata(dataset)\n",
    "columns = metadata.get('columns')\n",
    "fieldNames = [col['fieldName'] for col in columns]\n",
    "fieldNames"
   ]
  },
  {
   "cell_type": "markdown",
   "metadata": {},
   "source": [
    "fortunately/unfortunately, the API only lets a free user obtain 1000 per call. so in order to get all the data we want, we will need to make several calls and store the results in a list. we know we're going to need to do this a few times, so let's write a quick function for it. "
   ]
  },
  {
   "cell_type": "code",
   "execution_count": 22,
   "metadata": {},
   "outputs": [],
   "source": [
    "def getAll(domain, app_token, dataset,fieldList,limit):\n",
    "    \n",
    "    client = Socrata(domain, app_token, timeout = 30)    \n",
    "    results = list()\n",
    "    \n",
    "    for i in range(limit):        \n",
    "        incoming = client.get(dataset, select = fieldList, offset = i*1000)\n",
    "        results.append(incoming)\n",
    "       \n",
    "        if len(incoming)<1000:\n",
    "            break\n",
    "        pctComplete = 100* (len(results)/limit)\n",
    "        if pctComplete % 10==0:\n",
    "            print('percent complete :',pctComplete,  ' %')\n",
    "            \n",
    "    return results"
   ]
  },
  {
   "cell_type": "markdown",
   "metadata": {},
   "source": [
    "to get it working, let's define a fieldList and run it. recall that the list of fields we are selecting matches the list of fields that the course has chosen as the ones most pertinent to making predictions of response time."
   ]
  },
  {
   "cell_type": "code",
   "execution_count": 23,
   "metadata": {},
   "outputs": [],
   "source": [
    "fieldList = 'received_dttm, dispatch_dttm, response_dttm, call_Type, fire_prevention_district, neighborhoods_analysis_boundaries, number_of_alarms, original_priority, priority, unit_type, rowid'"
   ]
  },
  {
   "cell_type": "code",
   "execution_count": 24,
   "metadata": {},
   "outputs": [
    {
     "name": "stdout",
     "output_type": "stream",
     "text": [
      "percent complete : 10.0  %\n",
      "percent complete : 20.0  %\n",
      "percent complete : 30.0  %\n",
      "percent complete : 40.0  %\n",
      "percent complete : 50.0  %\n",
      "percent complete : 60.0  %\n",
      "percent complete : 70.0  %\n",
      "percent complete : 80.0  %\n",
      "percent complete : 90.0  %\n",
      "percent complete : 100.0  %\n"
     ]
    }
   ],
   "source": [
    "results = getAll(domain,app_token,dataset,fieldList,limit=100)"
   ]
  },
  {
   "cell_type": "markdown",
   "metadata": {},
   "source": [
    "inconveniently, the results are stored in a list, with each element being a JSON string with 1000 records in it. so we need a function to loop through that and make a dataframe out of all the records"
   ]
  },
  {
   "cell_type": "code",
   "execution_count": 25,
   "metadata": {},
   "outputs": [],
   "source": [
    "def jsonToDF(json_results):\n",
    "    results_df = pd.DataFrame()\n",
    "    for i in range(len(json_results)):\n",
    "        \n",
    "        results_df= results_df.append(pd.DataFrame.from_records(json_results[i]), sort = False)\n",
    "    return results_df\n",
    "            "
   ]
  },
  {
   "cell_type": "code",
   "execution_count": 26,
   "metadata": {},
   "outputs": [
    {
     "data": {
      "text/html": [
       "<div>\n",
       "<style scoped>\n",
       "    .dataframe tbody tr th:only-of-type {\n",
       "        vertical-align: middle;\n",
       "    }\n",
       "\n",
       "    .dataframe tbody tr th {\n",
       "        vertical-align: top;\n",
       "    }\n",
       "\n",
       "    .dataframe thead th {\n",
       "        text-align: right;\n",
       "    }\n",
       "</style>\n",
       "<table border=\"1\" class=\"dataframe\">\n",
       "  <thead>\n",
       "    <tr style=\"text-align: right;\">\n",
       "      <th></th>\n",
       "      <th>received_dttm</th>\n",
       "      <th>dispatch_dttm</th>\n",
       "      <th>response_dttm</th>\n",
       "      <th>call_Type</th>\n",
       "      <th>fire_prevention_district</th>\n",
       "      <th>neighborhoods_analysis_boundaries</th>\n",
       "      <th>number_of_alarms</th>\n",
       "      <th>original_priority</th>\n",
       "      <th>priority</th>\n",
       "      <th>unit_type</th>\n",
       "      <th>rowid</th>\n",
       "    </tr>\n",
       "  </thead>\n",
       "  <tbody>\n",
       "    <tr>\n",
       "      <td>0</td>\n",
       "      <td>2020-06-04T00:00:17.000</td>\n",
       "      <td>2020-06-04T00:02:09.000</td>\n",
       "      <td>2020-06-04T00:02:13.000</td>\n",
       "      <td>Medical Incident</td>\n",
       "      <td>None</td>\n",
       "      <td>Treasure Island</td>\n",
       "      <td>1</td>\n",
       "      <td>3</td>\n",
       "      <td>2</td>\n",
       "      <td>MEDIC</td>\n",
       "      <td>201560006-86</td>\n",
       "    </tr>\n",
       "    <tr>\n",
       "      <td>1</td>\n",
       "      <td>2020-06-04T00:00:17.000</td>\n",
       "      <td>2020-06-04T00:02:09.000</td>\n",
       "      <td>2020-06-04T00:04:08.000</td>\n",
       "      <td>Medical Incident</td>\n",
       "      <td>None</td>\n",
       "      <td>Treasure Island</td>\n",
       "      <td>1</td>\n",
       "      <td>3</td>\n",
       "      <td>2</td>\n",
       "      <td>ENGINE</td>\n",
       "      <td>201560006-E48</td>\n",
       "    </tr>\n",
       "    <tr>\n",
       "      <td>2</td>\n",
       "      <td>2020-06-04T00:00:17.000</td>\n",
       "      <td>2020-06-04T00:02:09.000</td>\n",
       "      <td>2020-06-04T00:04:12.000</td>\n",
       "      <td>Medical Incident</td>\n",
       "      <td>None</td>\n",
       "      <td>Treasure Island</td>\n",
       "      <td>1</td>\n",
       "      <td>3</td>\n",
       "      <td>2</td>\n",
       "      <td>MEDIC</td>\n",
       "      <td>201560006-RA48</td>\n",
       "    </tr>\n",
       "    <tr>\n",
       "      <td>3</td>\n",
       "      <td>2020-06-04T00:03:15.000</td>\n",
       "      <td>2020-06-04T00:05:48.000</td>\n",
       "      <td>2020-06-04T00:06:04.000</td>\n",
       "      <td>Medical Incident</td>\n",
       "      <td>6</td>\n",
       "      <td>Bernal Heights</td>\n",
       "      <td>1</td>\n",
       "      <td>2</td>\n",
       "      <td>2</td>\n",
       "      <td>MEDIC</td>\n",
       "      <td>201560012-94</td>\n",
       "    </tr>\n",
       "    <tr>\n",
       "      <td>4</td>\n",
       "      <td>2020-06-04T00:09:59.000</td>\n",
       "      <td>2020-06-04T00:11:53.000</td>\n",
       "      <td>2020-06-04T00:13:50.000</td>\n",
       "      <td>Outside Fire</td>\n",
       "      <td>3</td>\n",
       "      <td>Financial District/South Beach</td>\n",
       "      <td>1</td>\n",
       "      <td>3</td>\n",
       "      <td>3</td>\n",
       "      <td>ENGINE</td>\n",
       "      <td>201560019-E01</td>\n",
       "    </tr>\n",
       "    <tr>\n",
       "      <td>...</td>\n",
       "      <td>...</td>\n",
       "      <td>...</td>\n",
       "      <td>...</td>\n",
       "      <td>...</td>\n",
       "      <td>...</td>\n",
       "      <td>...</td>\n",
       "      <td>...</td>\n",
       "      <td>...</td>\n",
       "      <td>...</td>\n",
       "      <td>...</td>\n",
       "      <td>...</td>\n",
       "    </tr>\n",
       "    <tr>\n",
       "      <td>995</td>\n",
       "      <td>2019-12-13T12:39:47.000</td>\n",
       "      <td>2019-12-13T12:42:33.000</td>\n",
       "      <td>2019-12-13T12:44:52.000</td>\n",
       "      <td>Elevator / Escalator Rescue</td>\n",
       "      <td>9</td>\n",
       "      <td>West of Twin Peaks</td>\n",
       "      <td>1</td>\n",
       "      <td>3</td>\n",
       "      <td>3</td>\n",
       "      <td>TRUCK</td>\n",
       "      <td>193471778-T15</td>\n",
       "    </tr>\n",
       "    <tr>\n",
       "      <td>996</td>\n",
       "      <td>2019-12-14T12:53:55.000</td>\n",
       "      <td>2019-12-14T12:57:01.000</td>\n",
       "      <td>2019-12-14T12:58:10.000</td>\n",
       "      <td>Medical Incident</td>\n",
       "      <td>9</td>\n",
       "      <td>West of Twin Peaks</td>\n",
       "      <td>1</td>\n",
       "      <td>2</td>\n",
       "      <td>2</td>\n",
       "      <td>ENGINE</td>\n",
       "      <td>193481776-E33</td>\n",
       "    </tr>\n",
       "    <tr>\n",
       "      <td>997</td>\n",
       "      <td>2019-10-03T14:54:35.000</td>\n",
       "      <td>2019-10-03T14:56:15.000</td>\n",
       "      <td>2019-10-03T14:56:21.000</td>\n",
       "      <td>Medical Incident</td>\n",
       "      <td>3</td>\n",
       "      <td>South of Market</td>\n",
       "      <td>1</td>\n",
       "      <td>3</td>\n",
       "      <td>3</td>\n",
       "      <td>MEDIC</td>\n",
       "      <td>192762497-77</td>\n",
       "    </tr>\n",
       "    <tr>\n",
       "      <td>998</td>\n",
       "      <td>2019-12-18T02:03:23.000</td>\n",
       "      <td>2019-12-18T02:05:57.000</td>\n",
       "      <td>2019-12-18T02:07:23.000</td>\n",
       "      <td>Medical Incident</td>\n",
       "      <td>4</td>\n",
       "      <td>Western Addition</td>\n",
       "      <td>1</td>\n",
       "      <td>2</td>\n",
       "      <td>3</td>\n",
       "      <td>ENGINE</td>\n",
       "      <td>193520192-E38</td>\n",
       "    </tr>\n",
       "    <tr>\n",
       "      <td>999</td>\n",
       "      <td>2019-11-30T14:30:41.000</td>\n",
       "      <td>2019-11-30T14:32:15.000</td>\n",
       "      <td>2019-11-30T14:34:45.000</td>\n",
       "      <td>Structure Fire</td>\n",
       "      <td>9</td>\n",
       "      <td>Excelsior</td>\n",
       "      <td>1</td>\n",
       "      <td>3</td>\n",
       "      <td>3</td>\n",
       "      <td>RESCUE SQUAD</td>\n",
       "      <td>193341675-RS1</td>\n",
       "    </tr>\n",
       "  </tbody>\n",
       "</table>\n",
       "<p>100000 rows × 11 columns</p>\n",
       "</div>"
      ],
      "text/plain": [
       "               received_dttm            dispatch_dttm  \\\n",
       "0    2020-06-04T00:00:17.000  2020-06-04T00:02:09.000   \n",
       "1    2020-06-04T00:00:17.000  2020-06-04T00:02:09.000   \n",
       "2    2020-06-04T00:00:17.000  2020-06-04T00:02:09.000   \n",
       "3    2020-06-04T00:03:15.000  2020-06-04T00:05:48.000   \n",
       "4    2020-06-04T00:09:59.000  2020-06-04T00:11:53.000   \n",
       "..                       ...                      ...   \n",
       "995  2019-12-13T12:39:47.000  2019-12-13T12:42:33.000   \n",
       "996  2019-12-14T12:53:55.000  2019-12-14T12:57:01.000   \n",
       "997  2019-10-03T14:54:35.000  2019-10-03T14:56:15.000   \n",
       "998  2019-12-18T02:03:23.000  2019-12-18T02:05:57.000   \n",
       "999  2019-11-30T14:30:41.000  2019-11-30T14:32:15.000   \n",
       "\n",
       "               response_dttm                    call_Type  \\\n",
       "0    2020-06-04T00:02:13.000             Medical Incident   \n",
       "1    2020-06-04T00:04:08.000             Medical Incident   \n",
       "2    2020-06-04T00:04:12.000             Medical Incident   \n",
       "3    2020-06-04T00:06:04.000             Medical Incident   \n",
       "4    2020-06-04T00:13:50.000                 Outside Fire   \n",
       "..                       ...                          ...   \n",
       "995  2019-12-13T12:44:52.000  Elevator / Escalator Rescue   \n",
       "996  2019-12-14T12:58:10.000             Medical Incident   \n",
       "997  2019-10-03T14:56:21.000             Medical Incident   \n",
       "998  2019-12-18T02:07:23.000             Medical Incident   \n",
       "999  2019-11-30T14:34:45.000               Structure Fire   \n",
       "\n",
       "    fire_prevention_district neighborhoods_analysis_boundaries  \\\n",
       "0                       None                   Treasure Island   \n",
       "1                       None                   Treasure Island   \n",
       "2                       None                   Treasure Island   \n",
       "3                          6                    Bernal Heights   \n",
       "4                          3    Financial District/South Beach   \n",
       "..                       ...                               ...   \n",
       "995                        9                West of Twin Peaks   \n",
       "996                        9                West of Twin Peaks   \n",
       "997                        3                   South of Market   \n",
       "998                        4                  Western Addition   \n",
       "999                        9                         Excelsior   \n",
       "\n",
       "    number_of_alarms original_priority priority     unit_type           rowid  \n",
       "0                  1                 3        2         MEDIC    201560006-86  \n",
       "1                  1                 3        2        ENGINE   201560006-E48  \n",
       "2                  1                 3        2         MEDIC  201560006-RA48  \n",
       "3                  1                 2        2         MEDIC    201560012-94  \n",
       "4                  1                 3        3        ENGINE   201560019-E01  \n",
       "..               ...               ...      ...           ...             ...  \n",
       "995                1                 3        3         TRUCK   193471778-T15  \n",
       "996                1                 2        2        ENGINE   193481776-E33  \n",
       "997                1                 3        3         MEDIC    192762497-77  \n",
       "998                1                 2        3        ENGINE   193520192-E38  \n",
       "999                1                 3        3  RESCUE SQUAD   193341675-RS1  \n",
       "\n",
       "[100000 rows x 11 columns]"
      ]
     },
     "execution_count": 26,
     "metadata": {},
     "output_type": "execute_result"
    }
   ],
   "source": [
    "results_df = jsonToDF(results) \n",
    "results_df"
   ]
  },
  {
   "cell_type": "markdown",
   "metadata": {},
   "source": [
    "because we didn't specify it, pandas assumes string objects for all columns in the dataframe. so now let's explicitly tell it what data type each column should be"
   ]
  },
  {
   "cell_type": "code",
   "execution_count": 27,
   "metadata": {},
   "outputs": [],
   "source": [
    "dataTypeDict = {'received_dttm':'datetime64',\n",
    "                'dispatch_dttm':'datetime64',\n",
    "                'response_dttm':'datetime64',\n",
    "                'call_Type':'str',\n",
    "                'fire_prevention_district':'str',\n",
    "                'neighborhoods_analysis_boundaries':'str',\n",
    "                'number_of_alarms':'int',\n",
    "                'original_priority':'str',\n",
    "                'priority':'str',\n",
    "                'unit_type':'str'}    \n",
    "results_df = results_df.astype(dataTypeDict)"
   ]
  },
  {
   "cell_type": "markdown",
   "metadata": {},
   "source": [
    "now we can do some preliminary math on the dataframe to get the target variable. recall that in the course, they called this \"timeDelay\" and defined it as \"response time\" - \"received time\". i have decided to call this \"response duration\" as i think it is a more descriptive and accurate name for the variable. i'll also calculate a field called \"travel time\" defined as \"dispatch_dttm\" - \"response_dttm\". just for fun. also, pandas will automatically store these as the \"timedelta\" datatype. which i think would be fine, but for simplicity of the ML model, let's convert them to minutes (as floats)"
   ]
  },
  {
   "cell_type": "code",
   "execution_count": 28,
   "metadata": {},
   "outputs": [],
   "source": [
    "results_df['response duration'] = results_df['response_dttm'] - results_df['received_dttm']\n",
    "results_df['response duration'] = results_df['response duration']/np.timedelta64(1,'s')/60"
   ]
  },
  {
   "cell_type": "code",
   "execution_count": 29,
   "metadata": {},
   "outputs": [],
   "source": [
    "results_df['travel time'] = results_df['response_dttm'] - results_df['dispatch_dttm']\n",
    "results_df['travel time'] = results_df['travel time']/np.timedelta64(1,'s')/60"
   ]
  },
  {
   "cell_type": "code",
   "execution_count": 30,
   "metadata": {},
   "outputs": [
    {
     "data": {
      "text/plain": [
       "received_dttm                        datetime64[ns]\n",
       "dispatch_dttm                        datetime64[ns]\n",
       "response_dttm                        datetime64[ns]\n",
       "call_Type                                    object\n",
       "fire_prevention_district                     object\n",
       "neighborhoods_analysis_boundaries            object\n",
       "number_of_alarms                              int32\n",
       "original_priority                            object\n",
       "priority                                     object\n",
       "unit_type                                    object\n",
       "rowid                                        object\n",
       "response duration                           float64\n",
       "travel time                                 float64\n",
       "dtype: object"
      ]
     },
     "execution_count": 30,
     "metadata": {},
     "output_type": "execute_result"
    }
   ],
   "source": [
    "results_df.dtypes\n",
    "        "
   ]
  },
  {
   "cell_type": "markdown",
   "metadata": {},
   "source": [
    "to get a sense of the distribution of the data we're dealing with, let's have a look at a histogram"
   ]
  },
  {
   "cell_type": "code",
   "execution_count": 31,
   "metadata": {},
   "outputs": [
    {
     "name": "stderr",
     "output_type": "stream",
     "text": [
      "C:\\Users\\admin\\Anaconda3\\lib\\site-packages\\numpy\\lib\\histograms.py:824: RuntimeWarning: invalid value encountered in greater_equal\n",
      "  keep = (tmp_a >= first_edge)\n",
      "C:\\Users\\admin\\Anaconda3\\lib\\site-packages\\numpy\\lib\\histograms.py:825: RuntimeWarning: invalid value encountered in less_equal\n",
      "  keep &= (tmp_a <= last_edge)\n"
     ]
    },
    {
     "data": {
      "text/plain": [
       "(array([1.0000e+00, 1.0000e+00, 0.0000e+00, 0.0000e+00, 0.0000e+00,\n",
       "        9.7286e+04, 4.1600e+02, 1.0700e+02, 3.5000e+01, 4.0000e+00,\n",
       "        6.0000e+00, 0.0000e+00, 0.0000e+00, 1.0000e+00, 1.0000e+00,\n",
       "        0.0000e+00, 0.0000e+00, 0.0000e+00, 1.0000e+00, 0.0000e+00,\n",
       "        1.0000e+00, 0.0000e+00, 1.0000e+00, 0.0000e+00, 0.0000e+00,\n",
       "        0.0000e+00, 0.0000e+00, 0.0000e+00, 0.0000e+00, 1.0000e+00]),\n",
       " array([-144.36666667, -115.75888889,  -87.15111111,  -58.54333333,\n",
       "         -29.93555556,   -1.32777778,   27.28      ,   55.88777778,\n",
       "          84.49555556,  113.10333333,  141.71111111,  170.31888889,\n",
       "         198.92666667,  227.53444444,  256.14222222,  284.75      ,\n",
       "         313.35777778,  341.96555556,  370.57333333,  399.18111111,\n",
       "         427.78888889,  456.39666667,  485.00444444,  513.61222222,\n",
       "         542.22      ,  570.82777778,  599.43555556,  628.04333333,\n",
       "         656.65111111,  685.25888889,  713.86666667]),\n",
       " <a list of 30 Patch objects>)"
      ]
     },
     "execution_count": 31,
     "metadata": {},
     "output_type": "execute_result"
    },
    {
     "data": {
      "image/png": "[encoded data removed]",
      "text/plain": [
       "<Figure size 432x288 with 1 Axes>"
      ]
     },
     "metadata": {
      "needs_background": "light"
     },
     "output_type": "display_data"
    }
   ],
   "source": [
    "plt.hist(results_df['response duration'], bins = 30)"
   ]
  },
  {
   "cell_type": "markdown",
   "metadata": {},
   "source": [
    "looks like a pretty skewed distribution, with most values between 0 and 20 minutes. and a few much longer. so let's do as the course does and only focus on the values between 0 and 15 minutes, assuming the others are outliers that will hurt more than help our model.\n",
    "\n",
    "i acknowledge that sometimes outliers are significant and we want our model to be able to learn from the fact that they are there, so i may remove this restriction later."
   ]
  },
  {
   "cell_type": "code",
   "execution_count": 32,
   "metadata": {},
   "outputs": [
    {
     "data": {
      "text/plain": [
       "(array([ 3261.,  5449.,  7467.,  9674., 11904., 12855., 11656.,  9501.,\n",
       "         7036.,  4824.,  3353.,  2252.,  1638.,  1124.,   801.,   635.,\n",
       "          460.,   369.,   330.,   296.,   224.,   204.,   180.,   143.,\n",
       "          143.,   121.,   102.,   109.,    94.,    82.]),\n",
       " array([ 0. ,  0.5,  1. ,  1.5,  2. ,  2.5,  3. ,  3.5,  4. ,  4.5,  5. ,\n",
       "         5.5,  6. ,  6.5,  7. ,  7.5,  8. ,  8.5,  9. ,  9.5, 10. , 10.5,\n",
       "        11. , 11.5, 12. , 12.5, 13. , 13.5, 14. , 14.5, 15. ]),\n",
       " <a list of 30 Patch objects>)"
      ]
     },
     "execution_count": 32,
     "metadata": {},
     "output_type": "execute_result"
    },
    {
     "data": {
      "image/png": "[encoded data removed]",
      "text/plain": [
       "<Figure size 432x288 with 1 Axes>"
      ]
     },
     "metadata": {
      "needs_background": "light"
     },
     "output_type": "display_data"
    }
   ],
   "source": [
    "temp = results_df[results_df['response duration'].between(0,15)]\n",
    "plt.hist(temp['response duration'], bins = 30)"
   ]
  },
  {
   "cell_type": "markdown",
   "metadata": {},
   "source": [
    "with this filtering applied, we now a very pretty distribution, with a healthy mean right around 3 minutes"
   ]
  },
  {
   "cell_type": "markdown",
   "metadata": {},
   "source": [
    "this concludes the data import section. we will now store the results_df variable so we can use it in the next notebook, which cleans the data, explores it, and builds the models"
   ]
  },
  {
   "cell_type": "code",
   "execution_count": 33,
   "metadata": {},
   "outputs": [
    {
     "name": "stdout",
     "output_type": "stream",
     "text": [
      "Stored 'results_df' (DataFrame)\n"
     ]
    }
   ],
   "source": [
    "%store results_df"
   ]
  }
 ],
 "metadata": {
  "kernelspec": {
   "display_name": "Python 3",
   "language": "python",
   "name": "python3"
  },
  "language_info": {
   "codemirror_mode": {
    "name": "ipython",
    "version": 3
   },
   "file_extension": ".py",
   "mimetype": "text/x-python",
   "name": "python",
   "nbconvert_exporter": "python",
   "pygments_lexer": "ipython3",
   "version": "3.7.4"
  }
 },
 "nbformat": 4,
 "nbformat_minor": 4
}
