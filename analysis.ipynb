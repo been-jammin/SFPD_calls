{
 "cells": [
  {
   "cell_type": "markdown",
   "metadata": {},
   "source": [
    "first let's import all the packages we'll need for this section. they are all standard steps from the sklearn library. except for category_encoders, which is an extension package of sklearn. it has an ordinal encoder that we will experiment with later on."
   ]
  },
  {
   "cell_type": "code",
   "execution_count": 34,
   "metadata": {},
   "outputs": [],
   "source": [
    "import matplotlib.pyplot as plt\n",
    "from sklearn import linear_model\n",
    "from sklearn.svm import LinearSVR\n",
    "from sklearn.inspection import permutation_importance\n",
    "from sklearn.preprocessing import OneHotEncoder\n",
    "from sklearn.model_selection import train_test_split\n",
    "from sklearn.metrics import mean_squared_error\n",
    "from sklearn.metrics import r2_score\n",
    "from sklearn.model_selection import GridSearchCV\n",
    "from sklearn.preprocessing import OrdinalEncoder\n",
    "import category_encoders as ce\n",
    "from sklearn.preprocessing import OrdinalEncoder\n",
    "from sklearn.feature_selection import SelectKBest\n",
    "from sklearn.feature_selection import chi2\n",
    "from sklearn.feature_selection import f_regression\n",
    " "
   ]
  },
  {
   "cell_type": "markdown",
   "metadata": {},
   "source": [
    "i like having our base dataset named \"dataset\", so let's name it that. which we will do by reading the stored variable from the other notebook. when i'm working in jupyter lab, i can simply switch the kernel of this notebook to use the kernel of the notebook where i imported the data. but if you are following along and don't have that functionality, you can always just add %store results_df to the end of the prior notebook, and %store -r results_df to load the variable back into kernel memory\n",
    "\n"
   ]
  },
  {
   "cell_type": "code",
   "execution_count": 35,
   "metadata": {},
   "outputs": [
    {
     "data": {
      "text/html": [
       "<div>\n",
       "<style scoped>\n",
       "    .dataframe tbody tr th:only-of-type {\n",
       "        vertical-align: middle;\n",
       "    }\n",
       "\n",
       "    .dataframe tbody tr th {\n",
       "        vertical-align: top;\n",
       "    }\n",
       "\n",
       "    .dataframe thead th {\n",
       "        text-align: right;\n",
       "    }\n",
       "</style>\n",
       "<table border=\"1\" class=\"dataframe\">\n",
       "  <thead>\n",
       "    <tr style=\"text-align: right;\">\n",
       "      <th></th>\n",
       "      <th>received_dttm</th>\n",
       "      <th>dispatch_dttm</th>\n",
       "      <th>response_dttm</th>\n",
       "      <th>call_Type</th>\n",
       "      <th>fire_prevention_district</th>\n",
       "      <th>neighborhoods_analysis_boundaries</th>\n",
       "      <th>number_of_alarms</th>\n",
       "      <th>original_priority</th>\n",
       "      <th>priority</th>\n",
       "      <th>unit_type</th>\n",
       "      <th>rowid</th>\n",
       "      <th>response duration</th>\n",
       "      <th>travel time</th>\n",
       "    </tr>\n",
       "  </thead>\n",
       "  <tbody>\n",
       "    <tr>\n",
       "      <td>0</td>\n",
       "      <td>2020-06-04 00:00:17</td>\n",
       "      <td>2020-06-04 00:02:09</td>\n",
       "      <td>2020-06-04 00:02:13</td>\n",
       "      <td>Medical Incident</td>\n",
       "      <td>None</td>\n",
       "      <td>Treasure Island</td>\n",
       "      <td>1</td>\n",
       "      <td>3</td>\n",
       "      <td>2</td>\n",
       "      <td>MEDIC</td>\n",
       "      <td>201560006-86</td>\n",
       "      <td>1.933333</td>\n",
       "      <td>0.066667</td>\n",
       "    </tr>\n",
       "    <tr>\n",
       "      <td>1</td>\n",
       "      <td>2020-06-04 00:00:17</td>\n",
       "      <td>2020-06-04 00:02:09</td>\n",
       "      <td>2020-06-04 00:04:08</td>\n",
       "      <td>Medical Incident</td>\n",
       "      <td>None</td>\n",
       "      <td>Treasure Island</td>\n",
       "      <td>1</td>\n",
       "      <td>3</td>\n",
       "      <td>2</td>\n",
       "      <td>ENGINE</td>\n",
       "      <td>201560006-E48</td>\n",
       "      <td>3.850000</td>\n",
       "      <td>1.983333</td>\n",
       "    </tr>\n",
       "    <tr>\n",
       "      <td>2</td>\n",
       "      <td>2020-06-04 00:00:17</td>\n",
       "      <td>2020-06-04 00:02:09</td>\n",
       "      <td>2020-06-04 00:04:12</td>\n",
       "      <td>Medical Incident</td>\n",
       "      <td>None</td>\n",
       "      <td>Treasure Island</td>\n",
       "      <td>1</td>\n",
       "      <td>3</td>\n",
       "      <td>2</td>\n",
       "      <td>MEDIC</td>\n",
       "      <td>201560006-RA48</td>\n",
       "      <td>3.916667</td>\n",
       "      <td>2.050000</td>\n",
       "    </tr>\n",
       "    <tr>\n",
       "      <td>3</td>\n",
       "      <td>2020-06-04 00:03:15</td>\n",
       "      <td>2020-06-04 00:05:48</td>\n",
       "      <td>2020-06-04 00:06:04</td>\n",
       "      <td>Medical Incident</td>\n",
       "      <td>6</td>\n",
       "      <td>Bernal Heights</td>\n",
       "      <td>1</td>\n",
       "      <td>2</td>\n",
       "      <td>2</td>\n",
       "      <td>MEDIC</td>\n",
       "      <td>201560012-94</td>\n",
       "      <td>2.816667</td>\n",
       "      <td>0.266667</td>\n",
       "    </tr>\n",
       "    <tr>\n",
       "      <td>4</td>\n",
       "      <td>2020-06-04 00:09:59</td>\n",
       "      <td>2020-06-04 00:11:53</td>\n",
       "      <td>2020-06-04 00:13:50</td>\n",
       "      <td>Outside Fire</td>\n",
       "      <td>3</td>\n",
       "      <td>Financial District/South Beach</td>\n",
       "      <td>1</td>\n",
       "      <td>3</td>\n",
       "      <td>3</td>\n",
       "      <td>ENGINE</td>\n",
       "      <td>201560019-E01</td>\n",
       "      <td>3.850000</td>\n",
       "      <td>1.950000</td>\n",
       "    </tr>\n",
       "    <tr>\n",
       "      <td>...</td>\n",
       "      <td>...</td>\n",
       "      <td>...</td>\n",
       "      <td>...</td>\n",
       "      <td>...</td>\n",
       "      <td>...</td>\n",
       "      <td>...</td>\n",
       "      <td>...</td>\n",
       "      <td>...</td>\n",
       "      <td>...</td>\n",
       "      <td>...</td>\n",
       "      <td>...</td>\n",
       "      <td>...</td>\n",
       "      <td>...</td>\n",
       "    </tr>\n",
       "    <tr>\n",
       "      <td>995</td>\n",
       "      <td>2019-12-13 12:39:47</td>\n",
       "      <td>2019-12-13 12:42:33</td>\n",
       "      <td>2019-12-13 12:44:52</td>\n",
       "      <td>Elevator / Escalator Rescue</td>\n",
       "      <td>9</td>\n",
       "      <td>West of Twin Peaks</td>\n",
       "      <td>1</td>\n",
       "      <td>3</td>\n",
       "      <td>3</td>\n",
       "      <td>TRUCK</td>\n",
       "      <td>193471778-T15</td>\n",
       "      <td>5.083333</td>\n",
       "      <td>2.316667</td>\n",
       "    </tr>\n",
       "    <tr>\n",
       "      <td>996</td>\n",
       "      <td>2019-12-14 12:53:55</td>\n",
       "      <td>2019-12-14 12:57:01</td>\n",
       "      <td>2019-12-14 12:58:10</td>\n",
       "      <td>Medical Incident</td>\n",
       "      <td>9</td>\n",
       "      <td>West of Twin Peaks</td>\n",
       "      <td>1</td>\n",
       "      <td>2</td>\n",
       "      <td>2</td>\n",
       "      <td>ENGINE</td>\n",
       "      <td>193481776-E33</td>\n",
       "      <td>4.250000</td>\n",
       "      <td>1.150000</td>\n",
       "    </tr>\n",
       "    <tr>\n",
       "      <td>997</td>\n",
       "      <td>2019-10-03 14:54:35</td>\n",
       "      <td>2019-10-03 14:56:15</td>\n",
       "      <td>2019-10-03 14:56:21</td>\n",
       "      <td>Medical Incident</td>\n",
       "      <td>3</td>\n",
       "      <td>South of Market</td>\n",
       "      <td>1</td>\n",
       "      <td>3</td>\n",
       "      <td>3</td>\n",
       "      <td>MEDIC</td>\n",
       "      <td>192762497-77</td>\n",
       "      <td>1.766667</td>\n",
       "      <td>0.100000</td>\n",
       "    </tr>\n",
       "    <tr>\n",
       "      <td>998</td>\n",
       "      <td>2019-12-18 02:03:23</td>\n",
       "      <td>2019-12-18 02:05:57</td>\n",
       "      <td>2019-12-18 02:07:23</td>\n",
       "      <td>Medical Incident</td>\n",
       "      <td>4</td>\n",
       "      <td>Western Addition</td>\n",
       "      <td>1</td>\n",
       "      <td>2</td>\n",
       "      <td>3</td>\n",
       "      <td>ENGINE</td>\n",
       "      <td>193520192-E38</td>\n",
       "      <td>4.000000</td>\n",
       "      <td>1.433333</td>\n",
       "    </tr>\n",
       "    <tr>\n",
       "      <td>999</td>\n",
       "      <td>2019-11-30 14:30:41</td>\n",
       "      <td>2019-11-30 14:32:15</td>\n",
       "      <td>2019-11-30 14:34:45</td>\n",
       "      <td>Structure Fire</td>\n",
       "      <td>9</td>\n",
       "      <td>Excelsior</td>\n",
       "      <td>1</td>\n",
       "      <td>3</td>\n",
       "      <td>3</td>\n",
       "      <td>RESCUE SQUAD</td>\n",
       "      <td>193341675-RS1</td>\n",
       "      <td>4.066667</td>\n",
       "      <td>2.500000</td>\n",
       "    </tr>\n",
       "  </tbody>\n",
       "</table>\n",
       "<p>100000 rows × 13 columns</p>\n",
       "</div>"
      ],
      "text/plain": [
       "          received_dttm       dispatch_dttm       response_dttm  \\\n",
       "0   2020-06-04 00:00:17 2020-06-04 00:02:09 2020-06-04 00:02:13   \n",
       "1   2020-06-04 00:00:17 2020-06-04 00:02:09 2020-06-04 00:04:08   \n",
       "2   2020-06-04 00:00:17 2020-06-04 00:02:09 2020-06-04 00:04:12   \n",
       "3   2020-06-04 00:03:15 2020-06-04 00:05:48 2020-06-04 00:06:04   \n",
       "4   2020-06-04 00:09:59 2020-06-04 00:11:53 2020-06-04 00:13:50   \n",
       "..                  ...                 ...                 ...   \n",
       "995 2019-12-13 12:39:47 2019-12-13 12:42:33 2019-12-13 12:44:52   \n",
       "996 2019-12-14 12:53:55 2019-12-14 12:57:01 2019-12-14 12:58:10   \n",
       "997 2019-10-03 14:54:35 2019-10-03 14:56:15 2019-10-03 14:56:21   \n",
       "998 2019-12-18 02:03:23 2019-12-18 02:05:57 2019-12-18 02:07:23   \n",
       "999 2019-11-30 14:30:41 2019-11-30 14:32:15 2019-11-30 14:34:45   \n",
       "\n",
       "                       call_Type fire_prevention_district  \\\n",
       "0               Medical Incident                     None   \n",
       "1               Medical Incident                     None   \n",
       "2               Medical Incident                     None   \n",
       "3               Medical Incident                        6   \n",
       "4                   Outside Fire                        3   \n",
       "..                           ...                      ...   \n",
       "995  Elevator / Escalator Rescue                        9   \n",
       "996             Medical Incident                        9   \n",
       "997             Medical Incident                        3   \n",
       "998             Medical Incident                        4   \n",
       "999               Structure Fire                        9   \n",
       "\n",
       "    neighborhoods_analysis_boundaries  number_of_alarms original_priority  \\\n",
       "0                     Treasure Island                 1                 3   \n",
       "1                     Treasure Island                 1                 3   \n",
       "2                     Treasure Island                 1                 3   \n",
       "3                      Bernal Heights                 1                 2   \n",
       "4      Financial District/South Beach                 1                 3   \n",
       "..                                ...               ...               ...   \n",
       "995                West of Twin Peaks                 1                 3   \n",
       "996                West of Twin Peaks                 1                 2   \n",
       "997                   South of Market                 1                 3   \n",
       "998                  Western Addition                 1                 2   \n",
       "999                         Excelsior                 1                 3   \n",
       "\n",
       "    priority     unit_type           rowid  response duration  travel time  \n",
       "0          2         MEDIC    201560006-86           1.933333     0.066667  \n",
       "1          2        ENGINE   201560006-E48           3.850000     1.983333  \n",
       "2          2         MEDIC  201560006-RA48           3.916667     2.050000  \n",
       "3          2         MEDIC    201560012-94           2.816667     0.266667  \n",
       "4          3        ENGINE   201560019-E01           3.850000     1.950000  \n",
       "..       ...           ...             ...                ...          ...  \n",
       "995        3         TRUCK   193471778-T15           5.083333     2.316667  \n",
       "996        2        ENGINE   193481776-E33           4.250000     1.150000  \n",
       "997        3         MEDIC    192762497-77           1.766667     0.100000  \n",
       "998        3        ENGINE   193520192-E38           4.000000     1.433333  \n",
       "999        3  RESCUE SQUAD   193341675-RS1           4.066667     2.500000  \n",
       "\n",
       "[100000 rows x 13 columns]"
      ]
     },
     "execution_count": 35,
     "metadata": {},
     "output_type": "execute_result"
    }
   ],
   "source": [
    "# %store -r results_df\n",
    "dataset = results_df\n",
    "dataset"
   ]
  },
  {
   "cell_type": "markdown",
   "metadata": {},
   "source": [
    "# data cleaning"
   ]
  },
  {
   "cell_type": "markdown",
   "metadata": {},
   "source": [
    "first, let's take a look at what we are considering to be our 2 predicted quantities, \"response duration\"  and \"travel time\" (both defined in prior notebook) and check them for NaNs using Pandas methods isnull() and value_counts()"
   ]
  },
  {
   "cell_type": "code",
   "execution_count": 36,
   "metadata": {},
   "outputs": [
    {
     "name": "stdout",
     "output_type": "stream",
     "text": [
      "False    97862\n",
      "True      2138\n",
      "Name: response duration, dtype: int64\n"
     ]
    }
   ],
   "source": [
    "check = dataset['response duration'].isnull()\n",
    "print(check.value_counts())"
   ]
  },
  {
   "cell_type": "code",
   "execution_count": 37,
   "metadata": {},
   "outputs": [
    {
     "name": "stdout",
     "output_type": "stream",
     "text": [
      "False    97862\n",
      "True      2138\n",
      "Name: travel time, dtype: int64\n"
     ]
    }
   ],
   "source": [
    "check = dataset['travel time'].isnull()\n",
    "temp = dataset['travel time'].value_counts()\n",
    "print(check.value_counts())"
   ]
  },
  {
   "cell_type": "markdown",
   "metadata": {},
   "source": [
    "looks like there are some NaNs. probably of the same observations. we probably will have enough data that we can ignore/remove these observations, but i find it more elegant to replace them with a value that is closer to the truth. so instead let's calculate a mean and replace the NaNs with that value. recall that when the course filtered to times <15min the \"response duration\" distribution looked pretty gaussian, so adding more frequency to the mean shouldn't change the model. but we can try it both ways. "
   ]
  },
  {
   "cell_type": "code",
   "execution_count": 38,
   "metadata": {},
   "outputs": [],
   "source": [
    "goodMean = dataset['response duration'].mean(skipna = True)\n",
    "dataset['response duration'] = dataset['response duration'].fillna(goodMean)"
   ]
  },
  {
   "cell_type": "code",
   "execution_count": 39,
   "metadata": {},
   "outputs": [],
   "source": [
    "goodMean = dataset['travel time'].mean(skipna = True)\n",
    "dataset['travel time'] = dataset['travel time'].fillna(goodMean)"
   ]
  },
  {
   "cell_type": "code",
   "execution_count": 40,
   "metadata": {},
   "outputs": [
    {
     "data": {
      "text/plain": [
       "False    100000\n",
       "Name: response duration, dtype: int64"
      ]
     },
     "execution_count": 40,
     "metadata": {},
     "output_type": "execute_result"
    }
   ],
   "source": [
    "dataset['response duration'].isnull().value_counts()"
   ]
  },
  {
   "cell_type": "markdown",
   "metadata": {},
   "source": [
    "even though earlier we discussed performing the analyis on both \"travel time\" and \"response duration\", we need to start focusing so we're not doing 2 different analyses at once. so in order to keep our distributions simple, let's focus on 'response duration' whose values are between 0 and 15 minutes."
   ]
  },
  {
   "cell_type": "code",
   "execution_count": 41,
   "metadata": {},
   "outputs": [
    {
     "data": {
      "text/plain": [
       "Index(['received_dttm', 'dispatch_dttm', 'response_dttm', 'call_Type',\n",
       "       'fire_prevention_district', 'neighborhoods_analysis_boundaries',\n",
       "       'number_of_alarms', 'original_priority', 'priority', 'unit_type',\n",
       "       'rowid', 'response duration', 'travel time'],\n",
       "      dtype='object')"
      ]
     },
     "execution_count": 41,
     "metadata": {},
     "output_type": "execute_result"
    }
   ],
   "source": [
    "dataset_raw = dataset\n",
    "dataset = dataset_raw[dataset_raw['response duration'].between(0,15)]\n",
    "dataset.columns"
   ]
  },
  {
   "cell_type": "markdown",
   "metadata": {},
   "source": [
    "what i realized after pouring through this data a few times is there can be several row enteries associated with the same incident. these rows will have the same \"Received_dttm\", but perhaps different unit_types or response times, as maybe several different types of units respond to the same incident but at different speeds. so what we will really be looking at is response speed per unit. anyway, as a way of making sure we don't have any duplicates of the data, i have also included the rowid, which we can run value_counts() on to make sure there are no duplicates."
   ]
  },
  {
   "cell_type": "code",
   "execution_count": 42,
   "metadata": {},
   "outputs": [
    {
     "data": {
      "text/plain": [
       "(98425, 13)"
      ]
     },
     "execution_count": 42,
     "metadata": {},
     "output_type": "execute_result"
    }
   ],
   "source": [
    "dataset.shape"
   ]
  },
  {
   "cell_type": "code",
   "execution_count": 43,
   "metadata": {},
   "outputs": [
    {
     "data": {
      "text/plain": [
       "192960389-B02    2\n",
       "193054198-E01    2\n",
       "192161266-E51    2\n",
       "200150313-T15    2\n",
       "193013155-E14    2\n",
       "                ..\n",
       "200072795-T19    1\n",
       "193021046-B04    1\n",
       "200223060-RS1    1\n",
       "193612979-B05    1\n",
       "193400350-68     1\n",
       "Name: rowid, Length: 98410, dtype: int64"
      ]
     },
     "execution_count": 43,
     "metadata": {},
     "output_type": "execute_result"
    }
   ],
   "source": [
    "dataset['rowid'].value_counts()\n"
   ]
  },
  {
   "cell_type": "markdown",
   "metadata": {},
   "source": [
    "turns out there are some duplicates. they must have been in the dataset from the beginning. regardless, we can drop them easily."
   ]
  },
  {
   "cell_type": "code",
   "execution_count": 44,
   "metadata": {},
   "outputs": [
    {
     "name": "stdout",
     "output_type": "stream",
     "text": [
      "(98410, 13)\n"
     ]
    }
   ],
   "source": [
    "dataset = dataset.drop_duplicates()\n",
    "print(dataset.shape)\n"
   ]
  },
  {
   "cell_type": "markdown",
   "metadata": {},
   "source": [
    "# Data Exploration (Visualizations)"
   ]
  },
  {
   "cell_type": "markdown",
   "metadata": {},
   "source": [
    "at this point, the course goes on to immedately start the train/test split, encoding, and fitting a model. but one of the gravest errors in machine learning is building a model too early, before you've gotten really familiar with the data. so let's go outside the course and do some of that now. let's see if we can spot any correlations between the features of our observations, and the response duration, which is the variable we are trying to predict. presumably, because the course chose to track these features, there should be some. \n",
    "after all, instinctively, we would think that things like call type, number of alarms, and priority should all have some kind of impact on the response duration. to do this, let's plot the response duration against the elements of all the features. for simplicity, we will just collapse the data by using a pandas pivot table. this will just take an average of all response durations for each feature element"
   ]
  },
  {
   "cell_type": "code",
   "execution_count": 45,
   "metadata": {},
   "outputs": [
    {
     "data": {
      "text/plain": [
       "Index(['received_dttm', 'dispatch_dttm', 'response_dttm', 'call_Type',\n",
       "       'fire_prevention_district', 'neighborhoods_analysis_boundaries',\n",
       "       'number_of_alarms', 'original_priority', 'priority', 'unit_type',\n",
       "       'rowid', 'response duration', 'travel time'],\n",
       "      dtype='object')"
      ]
     },
     "execution_count": 45,
     "metadata": {},
     "output_type": "execute_result"
    }
   ],
   "source": [
    "dataset.columns"
   ]
  },
  {
   "cell_type": "code",
   "execution_count": 46,
   "metadata": {},
   "outputs": [],
   "source": [
    "def plotAgainst(dataset,column, y_axis):\n",
    "    dataset_piv = pd.pivot_table(dataset, index = column)\n",
    "    dataset_piv = dataset_piv.reset_index()\n",
    "    dataset_piv = dataset_piv.sort_values(by = y_axis)\n",
    "    plt.scatter(dataset_piv[column],dataset_piv[y_axis])\n",
    "    label = (y_axis, ' vs. ', column)\n",
    "    plt.title(label)"
   ]
  },
  {
   "cell_type": "code",
   "execution_count": 47,
   "metadata": {},
   "outputs": [],
   "source": [
    "dataset_columns = dataset.columns"
   ]
  },
  {
   "cell_type": "code",
   "execution_count": 48,
   "metadata": {
    "scrolled": true
   },
   "outputs": [
    {
     "data": {
      "image/png": "[encoded data removed]",
      "text/plain": [
       "<Figure size 432x288 with 1 Axes>"
      ]
     },
     "metadata": {
      "needs_background": "light"
     },
     "output_type": "display_data"
    },
    {
     "data": {
      "image/png": "[encoded data removed]",
      "text/plain": [
       "<Figure size 432x288 with 1 Axes>"
      ]
     },
     "metadata": {
      "needs_background": "light"
     },
     "output_type": "display_data"
    },
    {
     "data": {
      "image/png": "[encoded data removed]",
      "text/plain": [
       "<Figure size 432x288 with 1 Axes>"
      ]
     },
     "metadata": {
      "needs_background": "light"
     },
     "output_type": "display_data"
    },
    {
     "data": {
      "image/png": "[encoded data removed]",
      "text/plain": [
       "<Figure size 432x288 with 1 Axes>"
      ]
     },
     "metadata": {
      "needs_background": "light"
     },
     "output_type": "display_data"
    },
    {
     "data": {
      "image/png": "[encoded data removed]",
      "text/plain": [
       "<Figure size 432x288 with 1 Axes>"
      ]
     },
     "metadata": {
      "needs_background": "light"
     },
     "output_type": "display_data"
    },
    {
     "data": {
      "image/png": "[encoded data removed]",
      "text/plain": [
       "<Figure size 432x288 with 1 Axes>"
      ]
     },
     "metadata": {
      "needs_background": "light"
     },
     "output_type": "display_data"
    },
    {
     "data": {
      "image/png": "[encoded data removed]",
      "text/plain": [
       "<Figure size 432x288 with 1 Axes>"
      ]
     },
     "metadata": {
      "needs_background": "light"
     },
     "output_type": "display_data"
    }
   ],
   "source": [
    "cols_to_plot = ['call_Type', 'fire_prevention_district','neighborhoods_analysis_boundaries', 'number_of_alarms', 'original_priority', 'priority','unit_type']\n",
    "\n",
    "for i in range(len(cols_to_plot)):\n",
    "    plt.figure()\n",
    "    plotAgainst(dataset,cols_to_plot[i],'response duration') \n",
    "    plt.show()"
   ]
  },
  {
   "cell_type": "code",
   "execution_count": null,
   "metadata": {
    "scrolled": true
   },
   "outputs": [],
   "source": []
  },
  {
   "cell_type": "markdown",
   "metadata": {},
   "source": [
    "so we've learned a few things from this, before even building models. all the columns that the courses uses to predict the response duration are correlated to it in some way. i'm a bit surprised that neighborhood and district seem to have a strong correlation. i would think that the fire department should be able to respond with equal speed to all parts of the city...isn't that kind of the point of the fire department? anyway, it will be interesting to see how that impacts the prediction. also, unit type seems to have an impact. some quick research reveals that \"unit type\" refers to the style of vehicle used to respond to the incident. i guess this is in some way related to the \"call type\", so the FD can make sure they have the appropriate equipment to respond to the incident.\n",
    "\n",
    "anyway, given that we will be predicting a continuous quantity (time, in minutes), we will be using regression estimators, which require numerical inputs, which means we will need to encode our data. the course uses a straight one hot encoder for all features. but this is a possible divergence point. i would think that features like \"priority\" have a natural order to them. and it seems to be true somewhat. i would consider the two priority features as being more ordinal featres than categorical features. but the course treats them as categorical, so we'll follow suit.  but later on we will try with an Ordinal encoder. hence why we imported it earlier.\n"
   ]
  },
  {
   "cell_type": "markdown",
   "metadata": {},
   "source": [
    "# Train/Test Split and one-hot encoding"
   ]
  },
  {
   "cell_type": "markdown",
   "metadata": {},
   "source": [
    "standard steps for an 80/20 train/test split"
   ]
  },
  {
   "cell_type": "code",
   "execution_count": 49,
   "metadata": {},
   "outputs": [],
   "source": [
    "X = dataset.drop(['travel time','response duration','dispatch_dttm','response_dttm', 'received_dttm', 'rowid'], axis=1)\n",
    "y = dataset['response duration']\n",
    "X_train, X_test, y_train, y_test = train_test_split(X, y, test_size=0.2, random_state=42)"
   ]
  },
  {
   "cell_type": "markdown",
   "metadata": {},
   "source": []
  },
  {
   "cell_type": "code",
   "execution_count": 50,
   "metadata": {},
   "outputs": [
    {
     "data": {
      "text/plain": [
       "[array(['Administrative', 'Alarms', 'Assist Police',\n",
       "        'Citizen Assist / Service Call',\n",
       "        'Confined Space / Structure Collapse', 'Electrical Hazard',\n",
       "        'Elevator / Escalator Rescue', 'Explosion',\n",
       "        'Extrication / Entrapped (Machinery, Vehicle)', 'Fuel Spill',\n",
       "        'Gas Leak (Natural and LP Gases)', 'HazMat', 'High Angle Rescue',\n",
       "        'Industrial Accidents', 'Marine Fire', 'Medical Incident',\n",
       "        'Mutual Aid / Assist Outside Agency', 'Odor (Strange / Unknown)',\n",
       "        'Other', 'Outside Fire', 'Smoke Investigation (Outside)',\n",
       "        'Structure Fire', 'Traffic Collision', 'Train / Rail Fire',\n",
       "        'Train / Rail Incident', 'Vehicle Fire', 'Water Rescue',\n",
       "        'Watercraft in Distress'], dtype=object),\n",
       " array(['1', '10', '2', '3', '4', '5', '6', '7', '8', '9', 'None'],\n",
       "       dtype=object),\n",
       " array(['Bayview Hunters Point', 'Bernal Heights', 'Castro/Upper Market',\n",
       "        'Chinatown', 'Excelsior', 'Financial District/South Beach',\n",
       "        'Glen Park', 'Golden Gate Park', 'Haight Ashbury', 'Hayes Valley',\n",
       "        'Inner Richmond', 'Inner Sunset', 'Japantown', 'Lakeshore',\n",
       "        'Lincoln Park', 'Lone Mountain/USF', 'Marina', 'McLaren Park',\n",
       "        'Mission', 'Mission Bay', 'Nob Hill', 'Noe Valley', 'None',\n",
       "        'North Beach', 'Oceanview/Merced/Ingleside', 'Outer Mission',\n",
       "        'Outer Richmond', 'Pacific Heights', 'Portola', 'Potrero Hill',\n",
       "        'Presidio', 'Presidio Heights', 'Russian Hill', 'Seacliff',\n",
       "        'South of Market', 'Sunset/Parkside', 'Tenderloin',\n",
       "        'Treasure Island', 'Twin Peaks', 'Visitacion Valley',\n",
       "        'West of Twin Peaks', 'Western Addition'], dtype=object),\n",
       " array([1, 2]),\n",
       " array(['1', '2', '3', 'A', 'B', 'C', 'E', 'I'], dtype=object),\n",
       " array(['1', '2', '3', 'A', 'E', 'I'], dtype=object),\n",
       " array(['AIRPORT', 'CHIEF', 'ENGINE', 'INVESTIGATION', 'MEDIC', 'PRIVATE',\n",
       "        'RESCUE CAPTAIN', 'RESCUE SQUAD', 'SUPPORT', 'TRUCK'], dtype=object)]"
      ]
     },
     "execution_count": 50,
     "metadata": {},
     "output_type": "execute_result"
    }
   ],
   "source": [
    "ohe_train = OneHotEncoder(handle_unknown = 'ignore')\n",
    "Xtrain_enc = ohe_train.fit_transform(X_train)\n",
    "ohe_train.categories_"
   ]
  },
  {
   "cell_type": "code",
   "execution_count": null,
   "metadata": {},
   "outputs": [],
   "source": []
  },
  {
   "cell_type": "code",
   "execution_count": 51,
   "metadata": {},
   "outputs": [],
   "source": [
    "ohe_test = OneHotEncoder(categories = ohe_train.categories_, handle_unknown = 'ignore')\n",
    "Xtest_enc = ohe_test.fit_transform(X_test)\n",
    "df_map = pd.DataFrame({'original column':X.columns,\n",
    "                       'feature labels':ohe_train.categories_})"
   ]
  },
  {
   "cell_type": "code",
   "execution_count": 52,
   "metadata": {},
   "outputs": [
    {
     "data": {
      "text/plain": [
       "[array(['Administrative', 'Alarms', 'Assist Police',\n",
       "        'Citizen Assist / Service Call',\n",
       "        'Confined Space / Structure Collapse', 'Electrical Hazard',\n",
       "        'Elevator / Escalator Rescue', 'Explosion',\n",
       "        'Extrication / Entrapped (Machinery, Vehicle)', 'Fuel Spill',\n",
       "        'Gas Leak (Natural and LP Gases)', 'HazMat', 'High Angle Rescue',\n",
       "        'Industrial Accidents', 'Marine Fire', 'Medical Incident',\n",
       "        'Mutual Aid / Assist Outside Agency', 'Odor (Strange / Unknown)',\n",
       "        'Other', 'Outside Fire', 'Smoke Investigation (Outside)',\n",
       "        'Structure Fire', 'Traffic Collision', 'Train / Rail Fire',\n",
       "        'Train / Rail Incident', 'Vehicle Fire', 'Water Rescue',\n",
       "        'Watercraft in Distress'], dtype=object),\n",
       " array(['1', '10', '2', '3', '4', '5', '6', '7', '8', '9', 'None'],\n",
       "       dtype=object),\n",
       " array(['Bayview Hunters Point', 'Bernal Heights', 'Castro/Upper Market',\n",
       "        'Chinatown', 'Excelsior', 'Financial District/South Beach',\n",
       "        'Glen Park', 'Golden Gate Park', 'Haight Ashbury', 'Hayes Valley',\n",
       "        'Inner Richmond', 'Inner Sunset', 'Japantown', 'Lakeshore',\n",
       "        'Lincoln Park', 'Lone Mountain/USF', 'Marina', 'McLaren Park',\n",
       "        'Mission', 'Mission Bay', 'Nob Hill', 'Noe Valley', 'None',\n",
       "        'North Beach', 'Oceanview/Merced/Ingleside', 'Outer Mission',\n",
       "        'Outer Richmond', 'Pacific Heights', 'Portola', 'Potrero Hill',\n",
       "        'Presidio', 'Presidio Heights', 'Russian Hill', 'Seacliff',\n",
       "        'South of Market', 'Sunset/Parkside', 'Tenderloin',\n",
       "        'Treasure Island', 'Twin Peaks', 'Visitacion Valley',\n",
       "        'West of Twin Peaks', 'Western Addition'], dtype=object),\n",
       " array([1, 2]),\n",
       " array(['1', '2', '3', 'A', 'B', 'C', 'E', 'I'], dtype=object),\n",
       " array(['1', '2', '3', 'A', 'E', 'I'], dtype=object),\n",
       " array(['AIRPORT', 'CHIEF', 'ENGINE', 'INVESTIGATION', 'MEDIC', 'PRIVATE',\n",
       "        'RESCUE CAPTAIN', 'RESCUE SQUAD', 'SUPPORT', 'TRUCK'], dtype=object)]"
      ]
     },
     "execution_count": 52,
     "metadata": {},
     "output_type": "execute_result"
    }
   ],
   "source": [
    "ohe_test.categories_"
   ]
  },
  {
   "cell_type": "markdown",
   "metadata": {},
   "source": [
    "just to make sure everything came out the right shape...ie that the training set or test set didn't end up with more feature labels than the other"
   ]
  },
  {
   "cell_type": "code",
   "execution_count": 53,
   "metadata": {},
   "outputs": [
    {
     "name": "stdout",
     "output_type": "stream",
     "text": [
      "(78728, 107)\n",
      "(19682, 107)\n"
     ]
    }
   ],
   "source": [
    "print(Xtrain_enc.shape)\n",
    "print(Xtest_enc.shape)"
   ]
  },
  {
   "cell_type": "markdown",
   "metadata": {},
   "source": [
    "in order to judge our model performance against a standard baseline, let's see how good our predictions might be if we just predicted the average response duration every time."
   ]
  },
  {
   "cell_type": "code",
   "execution_count": 54,
   "metadata": {},
   "outputs": [
    {
     "data": {
      "text/plain": [
       "array([3.2047698, 3.2047698, 3.2047698, ..., 3.2047698, 3.2047698,\n",
       "       3.2047698])"
      ]
     },
     "execution_count": 54,
     "metadata": {},
     "output_type": "execute_result"
    }
   ],
   "source": [
    "avgDelay = np.full(y_test.shape, np.mean(y_train), dtype=float)\n",
    "avgDelay"
   ]
  },
  {
   "cell_type": "code",
   "execution_count": 55,
   "metadata": {},
   "outputs": [
    {
     "name": "stdout",
     "output_type": "stream",
     "text": [
      "-3.393626604619726e-06\n",
      "1.9816656193828424\n"
     ]
    }
   ],
   "source": [
    "print(r2_score(y_test,avgDelay))\n",
    "print(mean_squared_error(y_test, avgDelay, squared = False))\n"
   ]
  },
  {
   "cell_type": "markdown",
   "metadata": {},
   "source": [
    "so comparing the response durations of the test set against a baseline, we see that on average we are off by an average of about 2 minutes."
   ]
  },
  {
   "cell_type": "markdown",
   "metadata": {},
   "source": [
    "# create models and queue (divergence from course content)\n",
    "in the course, we only work with one estimator, the simple linear regressor. but we'll be trying a bunch. so let's create a dataframe to hold the scores of each estimator we try, for quick comparison"
   ]
  },
  {
   "cell_type": "code",
   "execution_count": 56,
   "metadata": {},
   "outputs": [],
   "source": [
    "if 'scores' not in locals():\n",
    "    scores = pd.DataFrame({'model':[],\n",
    "              'score':[]})\n",
    "else:\n",
    "    del scores\n",
    "if 'rmse_scores' not in locals():\n",
    "    rmse_scores = pd.DataFrame({'model':[],\n",
    "              'RMSE score':[]})\n",
    "else:\n",
    "    del rmse_scores"
   ]
  },
  {
   "cell_type": "markdown",
   "metadata": {},
   "source": [
    "this is where the course ends. it introduces the linear regression model, fits it, shows that it has a better RMSE than the baseline, and ends.\n",
    "it is also where i will attempt to go deeper than the course and uncover some more interesting insights about the data.\n",
    "\n",
    "the course only uses one estimator, but we should try a few to be sure we find the best one. estimators have different strengths for the nature of dataset they work on. for regression problems with our number of features and observations, we'll try all the relevant ones, with standard hyperparamters. we can tune these later on.\n",
    "\n",
    "in the case of ridge and lasso, we can use the built-in cross-validation functionality so we know what hyperparmeters we should focus in on. feel free to turn down the verbosity to save screen space. i like it."
   ]
  },
  {
   "cell_type": "code",
   "execution_count": 57,
   "metadata": {},
   "outputs": [],
   "source": [
    "lr = linear_model.LinearRegression(fit_intercept=True, normalize=True)\n",
    "sgdr = linear_model.SGDRegressor(max_iter=1000, tol =1e-3, verbose = 3)\n",
    "ridge = linear_model.Ridge(alpha = 1)\n",
    "ridge_cv = linear_model.RidgeCV(alphas = [1e-1,1e0,1e1])\n",
    "lasso = linear_model.Lasso(alpha = 1)\n",
    "lasso_cv = linear_model.LassoCV(alphas = [1e-3,1e-2,1e-1,1e0,1e1,1e2,1e3], verbose = 3)\n",
    "linSVR1 = LinearSVR(C=0.1, verbose = 3)\n",
    "linSVR2 = LinearSVR(C=1, verbose = 3)\n",
    "linSVR3 = LinearSVR(C=10, verbose = 3)\n",
    "elNet = linear_model.ElasticNet(alpha = 1, l1_ratio = 0.5)"
   ]
  },
  {
   "cell_type": "markdown",
   "metadata": {},
   "source": [
    "a cool part of my project will be to investigate feature importances. so we'll need a dataframe to hold those. "
   ]
  },
  {
   "cell_type": "markdown",
   "metadata": {},
   "source": []
  },
  {
   "cell_type": "code",
   "execution_count": 58,
   "metadata": {},
   "outputs": [],
   "source": [
    "\n",
    "importances = pd.DataFrame({'feature':ohe_train.get_feature_names()})\n",
    "importances['feature category'] = importances['feature'].str[1]"
   ]
  },
  {
   "cell_type": "markdown",
   "metadata": {},
   "source": [
    "# fit models to training set"
   ]
  },
  {
   "cell_type": "markdown",
   "metadata": {},
   "source": [
    "there may be a more elegant approach to this, like possibly using pipelines. but for now, all we want to do is try each estimator on the dataset to see which comes out the strongest. so we'll make a queue of all the estimators we created eariler, fit each one to the training data, and then make predictions and record the scores for quick comparison. \n",
    "\n",
    "in the course, the scoring method chosen is the (root) mean squared error method. which makes sense, as that can be interpreted as an average number of minutes that the predictor is off by. but the built-in scoring method of all the estimators we will use is the r-squared. intuitively, this makes more sense to score models when the input is continuous, not ohe. regardless, we'll use both."
   ]
  },
  {
   "cell_type": "code",
   "execution_count": 59,
   "metadata": {
    "scrolled": true
   },
   "outputs": [
    {
     "name": "stdout",
     "output_type": "stream",
     "text": [
      "fitting  LinearRegression(normalize=True)\n",
      "fitting  SGDRegressor(verbose=3)\n",
      "-- Epoch 1\n",
      "Norm: 3.58, NNZs: 107, Bias: 0.017589, T: 78728, Avg. loss: 1.668251\n",
      "Total training time: 0.05 seconds.\n",
      "-- Epoch 2\n",
      "Norm: 3.78, NNZs: 107, Bias: 0.018849, T: 157456, Avg. loss: 1.636333\n",
      "Total training time: 0.11 seconds.\n",
      "-- Epoch 3\n",
      "Norm: 3.86, NNZs: 107, Bias: 0.019695, T: 236184, Avg. loss: 1.633194\n",
      "Total training time: 0.16 seconds.\n",
      "-- Epoch 4\n",
      "Norm: 3.90, NNZs: 107, Bias: 0.020049, T: 314912, Avg. loss: 1.631407\n",
      "Total training time: 0.23 seconds.\n",
      "-- Epoch 5\n",
      "Norm: 3.96, NNZs: 107, Bias: 0.020726, T: 393640, Avg. loss: 1.630698\n",
      "Total training time: 0.29 seconds.\n",
      "-- Epoch 6\n",
      "Norm: 4.06, NNZs: 107, Bias: 0.021902, T: 472368, Avg. loss: 1.629633\n",
      "Total training time: 0.35 seconds.\n",
      "-- Epoch 7\n",
      "Norm: 4.07, NNZs: 107, Bias: 0.022085, T: 551096, Avg. loss: 1.629190\n",
      "Total training time: 0.43 seconds.\n",
      "-- Epoch 8\n",
      "Norm: 4.12, NNZs: 107, Bias: 0.022785, T: 629824, Avg. loss: 1.628482\n",
      "Total training time: 0.53 seconds.\n",
      "-- Epoch 9\n",
      "Norm: 4.16, NNZs: 107, Bias: 0.022953, T: 708552, Avg. loss: 1.628261\n",
      "Total training time: 0.61 seconds.\n",
      "-- Epoch 10\n",
      "Norm: 4.18, NNZs: 107, Bias: 0.023330, T: 787280, Avg. loss: 1.627897\n",
      "Total training time: 0.68 seconds.\n",
      "-- Epoch 11\n",
      "Norm: 4.23, NNZs: 107, Bias: 0.023996, T: 866008, Avg. loss: 1.627356\n",
      "Total training time: 0.74 seconds.\n",
      "Convergence after 11 epochs took 0.74 seconds\n",
      "fitting  Ridge(alpha=1)\n",
      "fitting  RidgeCV(alphas=array([ 0.1,  1. , 10. ]))\n",
      "fitting  Lasso(alpha=1)\n",
      "fitting  LassoCV(alphas=[0.001, 0.01, 0.1, 1.0, 10.0, 100.0, 1000.0], verbose=3)\n"
     ]
    },
    {
     "name": "stderr",
     "output_type": "stream",
     "text": [
      "[Parallel(n_jobs=1)]: Using backend SequentialBackend with 1 concurrent workers.\n"
     ]
    },
    {
     "name": "stdout",
     "output_type": "stream",
     "text": [
      "(<MemoryView of 'ndarray' at 0x21911ba4558>, 0.0, 25.056691238484703, 1)\n",
      "(<MemoryView of 'ndarray' at 0x21911ba4708>, 0.0, 25.056691238484703, 1)\n",
      "(<MemoryView of 'ndarray' at 0x21911ba48b8>, 0.0, 25.056691238484703, 1)\n",
      "(<MemoryView of 'ndarray' at 0x21911ba4a68>, 0.0, 25.056691238484703, 1)\n",
      "(<MemoryView of 'ndarray' at 0x21911ba4c18>, 0.002808308374369517, 25.056691238484703, 5)\n",
      "(<MemoryView of 'ndarray' at 0x21911ba4dc8>, 7.9133268015575595, 25.056691238484703, 71)\n",
      "(<MemoryView of 'ndarray' at 0x21911ba9048>, 15.267146300931927, 25.056691238484703, 115)\n"
     ]
    },
    {
     "name": "stderr",
     "output_type": "stream",
     "text": [
      "[Parallel(n_jobs=1)]: Done   1 out of   1 | elapsed:   15.3s remaining:    0.0s\n"
     ]
    },
    {
     "name": "stdout",
     "output_type": "stream",
     "text": [
      "(<MemoryView of 'ndarray' at 0x21911ba4708>, 0.0, 24.922748626209618, 1)\n",
      "(<MemoryView of 'ndarray' at 0x21911ba4558>, 0.0, 24.922748626209618, 1)\n",
      "(<MemoryView of 'ndarray' at 0x21911ba8048>, 0.0, 24.922748626209618, 1)\n",
      "(<MemoryView of 'ndarray' at 0x21911ba81f8>, 0.0, 24.922748626209618, 1)\n",
      "(<MemoryView of 'ndarray' at 0x21911ba8558>, 0.002621013845782727, 24.922748626209618, 5)\n",
      "(<MemoryView of 'ndarray' at 0x21911ba8708>, 8.142208119854331, 24.922748626209618, 58)\n",
      "(<MemoryView of 'ndarray' at 0x21911ba88b8>, 19.456668911036104, 24.922748626209618, 115)\n",
      "(<MemoryView of 'ndarray' at 0x21911ba4558>, 0.0, 24.948900979700323, 1)\n"
     ]
    },
    {
     "name": "stderr",
     "output_type": "stream",
     "text": [
      "[Parallel(n_jobs=1)]: Done   2 out of   2 | elapsed:   25.5s remaining:    0.0s\n"
     ]
    },
    {
     "name": "stdout",
     "output_type": "stream",
     "text": [
      "(<MemoryView of 'ndarray' at 0x21911ba4708>, 0.0, 24.948900979700323, 1)\n",
      "(<MemoryView of 'ndarray' at 0x21911ba88b8>, 0.0, 24.948900979700323, 1)\n",
      "(<MemoryView of 'ndarray' at 0x21911ba8708>, 0.0, 24.948900979700323, 1)\n",
      "(<MemoryView of 'ndarray' at 0x21911ba8558>, 0.002458373171975836, 24.948900979700323, 5)\n",
      "(<MemoryView of 'ndarray' at 0x21911ba81f8>, 7.250614246848272, 24.948900979700323, 63)\n",
      "(<MemoryView of 'ndarray' at 0x21911ba8048>, 21.94155094627058, 24.948900979700323, 209)\n",
      "(<MemoryView of 'ndarray' at 0x21911ba4708>, 0.0, 25.021059196220126, 1)\n",
      "(<MemoryView of 'ndarray' at 0x21911ba4558>, 0.0, 25.021059196220126, 1)\n",
      "(<MemoryView of 'ndarray' at 0x21911ba8048>, 0.0, 25.021059196220126, 1)\n",
      "(<MemoryView of 'ndarray' at 0x21911ba81f8>, 0.0, 25.021059196220126, 1)\n",
      "(<MemoryView of 'ndarray' at 0x21911ba8558>, 0.002898216189350933, 25.021059196220126, 5)\n",
      "(<MemoryView of 'ndarray' at 0x21911ba8708>, 7.4491329831653275, 25.021059196220126, 72)\n",
      "(<MemoryView of 'ndarray' at 0x21911ba88b8>, 24.838094342965633, 25.021059196220126, 282)\n",
      "(<MemoryView of 'ndarray' at 0x21911ba4558>, 0.0, 24.788079758369584, 1)\n",
      "(<MemoryView of 'ndarray' at 0x21911ba4708>, 0.0, 24.788079758369584, 1)\n",
      "(<MemoryView of 'ndarray' at 0x21911ba88b8>, 0.0, 24.788079758369584, 1)\n",
      "(<MemoryView of 'ndarray' at 0x21911ba8708>, 0.0, 24.788079758369584, 1)\n",
      "(<MemoryView of 'ndarray' at 0x21911ba8558>, 0.002970609755720943, 24.788079758369584, 5)\n",
      "(<MemoryView of 'ndarray' at 0x21911ba81f8>, 7.819289343373384, 24.788079758369584, 56)\n",
      "(<MemoryView of 'ndarray' at 0x21911ba8048>, 15.127060032769805, 24.788079758369584, 104)\n"
     ]
    },
    {
     "name": "stderr",
     "output_type": "stream",
     "text": [
      "[Parallel(n_jobs=1)]: Done   5 out of   5 | elapsed:  1.2min finished\n"
     ]
    },
    {
     "name": "stdout",
     "output_type": "stream",
     "text": [
      "fitting  LinearSVR(C=0.1, verbose=3)\n",
      "[LibLinear]fitting  LinearSVR(C=1, verbose=3)\n",
      "[LibLinear]fitting  LinearSVR(C=10, verbose=3)\n",
      "[LibLinear]"
     ]
    },
    {
     "name": "stderr",
     "output_type": "stream",
     "text": [
      "C:\\Users\\admin\\Anaconda3\\lib\\site-packages\\sklearn\\svm\\_base.py:977: ConvergenceWarning: Liblinear failed to converge, increase the number of iterations.\n",
      "  \"the number of iterations.\", ConvergenceWarning)\n"
     ]
    },
    {
     "name": "stdout",
     "output_type": "stream",
     "text": [
      "fitting  ElasticNet(alpha=1)\n"
     ]
    }
   ],
   "source": [
    "models = [lr,sgdr, ridge, ridge_cv, lasso, lasso_cv, linSVR1, linSVR2, linSVR3, elNet]\n",
    "#models = [lr, sgdr, ridge_cv, lasso_cv, elNet]\n",
    "#models = [lr, sgdr, ridge, lasso, elNet]\n",
    "\n",
    "def fitPredictScore(modelQueue, X_train, y_train, X_test, y_test, scores, rmse_scores):\n",
    "   \n",
    "    for i in range(len(models)):\n",
    "        print('fitting ',models[i])\n",
    "        models[i].fit(X_train,y_train)    \n",
    "        y_pred = models[i].predict(X_test)\n",
    "        modelScore = models[i].score(X_test, y_test)\n",
    "        scores = scores.append({'model':str(models[i].__class__.__name__),\n",
    "                                  'score':modelScore},\n",
    "                                  ignore_index = True)\n",
    "\n",
    "        rmse_scores = rmse_scores.append({'model':str(models[i].__class__.__name__),\n",
    "                                  'RMSE score':mean_squared_error(y_test, y_pred, squared = False)},\n",
    "                                  ignore_index = True)\n",
    "    return scores, rmse_scores\n",
    "\n",
    "\n",
    "scores, rmse_scores = fitPredictScore(models,Xtrain_enc, y_train, Xtest_enc, y_test,scores=pd.DataFrame(),rmse_scores = pd.DataFrame())"
   ]
  },
  {
   "cell_type": "code",
   "execution_count": 60,
   "metadata": {},
   "outputs": [
    {
     "name": "stdout",
     "output_type": "stream",
     "text": [
      "              model     score\n",
      "0  LinearRegression  0.186078\n",
      "2             Ridge  0.186039\n",
      "3           RidgeCV  0.186036\n",
      "5           LassoCV  0.180891\n",
      "1      SGDRegressor  0.179902\n",
      "7         LinearSVR  0.141865\n",
      "8         LinearSVR  0.138006\n",
      "6         LinearSVR  0.135936\n",
      "4             Lasso -0.000003\n",
      "9        ElasticNet -0.000003\n"
     ]
    }
   ],
   "source": [
    "print(scores.sort_values(by='score', ascending = False))"
   ]
  },
  {
   "cell_type": "code",
   "execution_count": 61,
   "metadata": {},
   "outputs": [
    {
     "name": "stdout",
     "output_type": "stream",
     "text": [
      "   RMSE score             model\n",
      "0    1.787808  LinearRegression\n",
      "2    1.787851             Ridge\n",
      "3    1.787855           RidgeCV\n",
      "5    1.793497           LassoCV\n",
      "1    1.794579      SGDRegressor\n",
      "7    1.835725         LinearSVR\n",
      "8    1.839848         LinearSVR\n",
      "6    1.842055         LinearSVR\n",
      "4    1.981666             Lasso\n",
      "9    1.981666        ElasticNet\n"
     ]
    }
   ],
   "source": [
    "print(rmse_scores.sort_values(by='RMSE score'))\n"
   ]
  },
  {
   "cell_type": "markdown",
   "metadata": {},
   "source": [
    "the first thing to note is that in general, these r-square values look quite poor. obviously, what is a \"good\" vs \"bad\" r-square depends on the problem and the data, but intuitively i thought these estimators could do better. \n",
    "\n",
    "finally, it looks like the basic linear regressor and the ridge_cv (with alpha of 0.1) had the best scores - both the highest r-square and the lowest RMSE. this is probably why the course chose to introduce just the simple linear regressor. but the good news is that using this estimator instead of just predicing the average has improved the quality of our response duration prediction, from being off by 2 minutes, to being off by 1.73 minutes. still...this is only a 14% improvement in prediction quality. and if the average response duration is ~3 minutes, and we can only predict it within ~1.73 minutes, that's not very good. hopefully we can improve with other modifications to the model.\n",
    "\n",
    "out of curiosity, let's check the best value of alpha used in the cross-validations.\n"
   ]
  },
  {
   "cell_type": "code",
   "execution_count": 62,
   "metadata": {},
   "outputs": [
    {
     "name": "stdout",
     "output_type": "stream",
     "text": [
      "1.0\n",
      "0.001\n"
     ]
    }
   ],
   "source": [
    "print(ridge_cv.alpha_)\n",
    "print(lasso_cv.alpha_)"
   ]
  },
  {
   "cell_type": "markdown",
   "metadata": {},
   "source": [
    "both decently low. indicating that assigning weights to more features won't be heavily penalized. an alpha of 0 is just a linear regression. which makes sense in retrospect, recalling that our data is one-hot encoded. with 6 features, each with several labels, exploded out to 107 columns. we can expect that each of these columns will impact the prediction significantly. so if we expect all our features to contribute significantly, a basic linear regressor estimator makes sense as the strongest model. the correlations shown in the scatterplots earlier corroborate this.\n",
    "\n",
    "a ridge estimator with alpha = 0.1 means that only slightly penalizing the weights of some features...which turns out not to help the predictibilty."
   ]
  },
  {
   "cell_type": "code",
   "execution_count": null,
   "metadata": {},
   "outputs": [],
   "source": []
  },
  {
   "cell_type": "markdown",
   "metadata": {},
   "source": [
    "# compile feature importances"
   ]
  },
  {
   "cell_type": "markdown",
   "metadata": {},
   "source": [
    "to examine the feature importances, i will use the permutation_importance() method, which takes an estimator, and iteratively re-fits it to the data with a new column dropped every time. the idea being that the most important features will do the greatest damage on the model when they are dropped\n",
    "\n",
    "once the features have been assigned importances, we will append them to the dataframe of all the feature labels, so we can compare the importances given by each model"
   ]
  },
  {
   "cell_type": "code",
   "execution_count": 63,
   "metadata": {
    "scrolled": true
   },
   "outputs": [
    {
     "name": "stdout",
     "output_type": "stream",
     "text": [
      "calculating feature importances for:  LinearRegression(normalize=True)\n"
     ]
    }
   ],
   "source": [
    "if 'importances' not in locals():\n",
    "    importances = pd.DataFrame({'feature':encoder.get_feature_names()})\n",
    "    importances['feature category'] = importances['feature'].str[1]\n",
    "\n",
    "goodModels = [lr, sgdr, ridge_cv, lasso_cv]\n",
    "goodModels = [lr]\n",
    "\n",
    "for i in range(len(goodModels)):\n",
    "    print('calculating feature importances for: ', goodModels[i])\n",
    "    feIm = permutation_importance(goodModels[i],Xtrain_enc.toarray(), y_train, n_repeats = 3)\n",
    "    importances[str(goodModels[i])] = feIm.importances_mean\n"
   ]
  },
  {
   "cell_type": "code",
   "execution_count": 64,
   "metadata": {},
   "outputs": [
    {
     "data": {
      "text/html": [
       "<div>\n",
       "<style scoped>\n",
       "    .dataframe tbody tr th:only-of-type {\n",
       "        vertical-align: middle;\n",
       "    }\n",
       "\n",
       "    .dataframe tbody tr th {\n",
       "        vertical-align: top;\n",
       "    }\n",
       "\n",
       "    .dataframe thead th {\n",
       "        text-align: right;\n",
       "    }\n",
       "</style>\n",
       "<table border=\"1\" class=\"dataframe\">\n",
       "  <thead>\n",
       "    <tr style=\"text-align: right;\">\n",
       "      <th></th>\n",
       "      <th>feature</th>\n",
       "      <th>feature category</th>\n",
       "      <th>LinearRegression(normalize=True)</th>\n",
       "    </tr>\n",
       "  </thead>\n",
       "  <tbody>\n",
       "    <tr>\n",
       "      <td>84</td>\n",
       "      <td>x4_2</td>\n",
       "      <td>4</td>\n",
       "      <td>0.107688</td>\n",
       "    </tr>\n",
       "    <tr>\n",
       "      <td>86</td>\n",
       "      <td>x4_A</td>\n",
       "      <td>4</td>\n",
       "      <td>0.049610</td>\n",
       "    </tr>\n",
       "    <tr>\n",
       "      <td>101</td>\n",
       "      <td>x6_MEDIC</td>\n",
       "      <td>6</td>\n",
       "      <td>0.045549</td>\n",
       "    </tr>\n",
       "    <tr>\n",
       "      <td>87</td>\n",
       "      <td>x4_B</td>\n",
       "      <td>4</td>\n",
       "      <td>0.029176</td>\n",
       "    </tr>\n",
       "    <tr>\n",
       "      <td>103</td>\n",
       "      <td>x6_RESCUE CAPTAIN</td>\n",
       "      <td>6</td>\n",
       "      <td>0.021724</td>\n",
       "    </tr>\n",
       "    <tr>\n",
       "      <td>...</td>\n",
       "      <td>...</td>\n",
       "      <td>...</td>\n",
       "      <td>...</td>\n",
       "    </tr>\n",
       "    <tr>\n",
       "      <td>83</td>\n",
       "      <td>x4_1</td>\n",
       "      <td>4</td>\n",
       "      <td>-0.000001</td>\n",
       "    </tr>\n",
       "    <tr>\n",
       "      <td>91</td>\n",
       "      <td>x5_1</td>\n",
       "      <td>5</td>\n",
       "      <td>-0.000001</td>\n",
       "    </tr>\n",
       "    <tr>\n",
       "      <td>47</td>\n",
       "      <td>x2_Haight Ashbury</td>\n",
       "      <td>2</td>\n",
       "      <td>-0.000002</td>\n",
       "    </tr>\n",
       "    <tr>\n",
       "      <td>95</td>\n",
       "      <td>x5_E</td>\n",
       "      <td>5</td>\n",
       "      <td>-0.000002</td>\n",
       "    </tr>\n",
       "    <tr>\n",
       "      <td>44</td>\n",
       "      <td>x2_Financial District/South Beach</td>\n",
       "      <td>2</td>\n",
       "      <td>-0.000004</td>\n",
       "    </tr>\n",
       "  </tbody>\n",
       "</table>\n",
       "<p>107 rows × 3 columns</p>\n",
       "</div>"
      ],
      "text/plain": [
       "                               feature feature category  \\\n",
       "84                                x4_2                4   \n",
       "86                                x4_A                4   \n",
       "101                           x6_MEDIC                6   \n",
       "87                                x4_B                4   \n",
       "103                  x6_RESCUE CAPTAIN                6   \n",
       "..                                 ...              ...   \n",
       "83                                x4_1                4   \n",
       "91                                x5_1                5   \n",
       "47                   x2_Haight Ashbury                2   \n",
       "95                                x5_E                5   \n",
       "44   x2_Financial District/South Beach                2   \n",
       "\n",
       "     LinearRegression(normalize=True)  \n",
       "84                           0.107688  \n",
       "86                           0.049610  \n",
       "101                          0.045549  \n",
       "87                           0.029176  \n",
       "103                          0.021724  \n",
       "..                                ...  \n",
       "83                          -0.000001  \n",
       "91                          -0.000001  \n",
       "47                          -0.000002  \n",
       "95                          -0.000002  \n",
       "44                          -0.000004  \n",
       "\n",
       "[107 rows x 3 columns]"
      ]
     },
     "execution_count": 64,
     "metadata": {},
     "output_type": "execute_result"
    }
   ],
   "source": [
    "importances.sort_values(by = 'LinearRegression(normalize=True)', ascending = False)"
   ]
  },
  {
   "cell_type": "markdown",
   "metadata": {},
   "source": [
    "recall that our data is one-hot encoded. so it's not really feature importances we are looking at, but feature label importances. which doesn't help us very much. but it could be cool to see which single labels have the biggest impact on response duration\n",
    "\n",
    "so far, the linear regressor is our strongest estimator, so we'll use that estimator's feature importances to sort by"
   ]
  },
  {
   "cell_type": "code",
   "execution_count": 65,
   "metadata": {},
   "outputs": [
    {
     "name": "stdout",
     "output_type": "stream",
     "text": [
      "                              feature feature category  \\\n",
      "86                               x4_A                4   \n",
      "101                          x6_MEDIC                6   \n",
      "87                               x4_B                4   \n",
      "103                 x6_RESCUE CAPTAIN                6   \n",
      "21                  x0_Structure Fire                0   \n",
      "88                               x4_C                4   \n",
      "99                          x6_ENGINE                6   \n",
      "98                           x6_CHIEF                6   \n",
      "3    x0_Citizen Assist / Service Call                0   \n",
      "\n",
      "     LinearRegression(normalize=True)  \n",
      "86                           0.049610  \n",
      "101                          0.045549  \n",
      "87                           0.029176  \n",
      "103                          0.021724  \n",
      "21                           0.018870  \n",
      "88                           0.018344  \n",
      "99                           0.008669  \n",
      "98                           0.008539  \n",
      "3                            0.006069  \n"
     ]
    }
   ],
   "source": [
    "print(importances.sort_values(by=['LinearRegression(normalize=True)'], ascending = False)[1:10])"
   ]
  },
  {
   "cell_type": "markdown",
   "metadata": {},
   "source": [
    "looks like the most important labels are the \"original priority\" being assigned value \"A\" or\"B\" the call_type being assigned \"medic\", or the unit_type being assigned \"MEDIC\" or \"RESCUE CAPTAIN\".\n",
    "\n",
    "still, the more vital information to extract would be which feature (not feature label) has the greatest bearing on response duration. in order to do that, we take an average of the importances over each feature category. i'm aware there may be a more model-rigorous way to do this, but this should satisfy our curiosity for now.\n",
    "\n",
    "to do this, we can have pandas create a pivot table, aggregating the data by feature category, and taking an average"
   ]
  },
  {
   "cell_type": "code",
   "execution_count": 66,
   "metadata": {},
   "outputs": [
    {
     "name": "stdout",
     "output_type": "stream",
     "text": [
      "                  LinearRegression(normalize=True)\n",
      "feature category                                  \n",
      "5                                         0.000155\n",
      "2                                         0.000161\n",
      "3                                         0.000487\n",
      "1                                         0.000738\n",
      "0                                         0.001360\n",
      "6                                         0.010154\n",
      "4                                         0.026447\n"
     ]
    }
   ],
   "source": [
    "importances_pivot = pd.pivot_table(importances, index = 'feature category',aggfunc = 'mean')\n",
    "print(importances_pivot.sort_values(by='LinearRegression(normalize=True)'))"
   ]
  },
  {
   "cell_type": "markdown",
   "metadata": {},
   "source": [
    "this table is more helpful. reading from our best-performing estimator, we see that on average, the most important feature groups are 4 and 6. feature group 4 is the \"original priority\", and 6 is the unit_type. intuitively, this makes sense. \n",
    "\n",
    "# results discussion\n",
    "\n",
    "i'm not an expert on how fire department calls are handled, but i imagine that at some point the dispatcher assigns a priority to each incident that gets called in. maybe this is assigned by a person, maybe it is assigned by an algorithm based on information that the dispatcher inputs. either way, it is logical that that would have a big impact on how quickly the fire department arrives on the scene. recall from the earlier scatterplot that we might have been able to guess this, given the strong visual correlation. also, that plot reveals the order of the original priority assignments, which seems to be (from highest to lowest) B, I, A, C, E, 3, 2. but this uncovers another problem. maybe the \"original priority\" is itself a output/target variable, using other features as its input. like the call_type, the neighborhood, or the number of alarms for example. in that case, another worthwhile exercise could be to remove it from the features (given that by its own right is correlated to the input features), or attempt to predict it using a different model. the same applies to the 2nd most important feature, the unit_type. to some degree, this would depend on the type of incident being reported. so maybe it too should be removed from the model to give it more versatility.\n",
    "\n",
    "i think we can agree that some improvements can be made to the model. perhaps the greatest of which is to realize that there are 3 fields in the data that prehaps should not have been one-hot encoded. the \"number of alarms\" shouldn't need to be encoded at all. it's just an integer, which holds the number of alarms that the incident caused. in addition, given the discussion just presented, perhaps the two \"priority\" fields should be enoded not with a OHE, but with an ordinal encoder, given that the feature labels do have a natural \"order\". so let's try that next."
   ]
  },
  {
   "cell_type": "markdown",
   "metadata": {},
   "source": [
    "# try an ordinal encoder"
   ]
  },
  {
   "cell_type": "markdown",
   "metadata": {},
   "source": [
    "this ordinal encoder we are using requires a list of dictionaries. it needs to be explicitly told what is the proper \"ordering\" of the feature labels. so we will give it that, for each column that we are applyind the encoder to"
   ]
  },
  {
   "cell_type": "code",
   "execution_count": 67,
   "metadata": {},
   "outputs": [],
   "source": [
    "ordinalMapping = [{'col':'original_priority',\n",
    "                   'mapping':\n",
    "                            {'B':1,\n",
    "                            'I':2,\n",
    "                            'A':3,\n",
    "                            'C':4,\n",
    "                            'E':5,\n",
    "                            '3':6,\n",
    "                            '2':7}},\n",
    "                     {'col':'priority',\n",
    "                      'mapping':{\n",
    "                              'E':1,\n",
    "                              '3':2,\n",
    "                              '2':3}},\n",
    "                      {'col':'number_of_alarms',\n",
    "                       'mapping':\n",
    "                           {'1':1,\n",
    "                            '2':2}\n",
    "                              }]\n",
    "                    \n",
    "                                  "
   ]
  },
  {
   "cell_type": "code",
   "execution_count": 68,
   "metadata": {},
   "outputs": [],
   "source": [
    "ordEnc = ce.OrdinalEncoder(mapping = ordinalMapping)\n",
    "Xtrain_opt = ordEnc.fit_transform(X_train)\n",
    "Xtrain_opt = Xtrain_opt.astype({'original_priority':'int64','priority':'int64', 'number_of_alarms':'int64'})\n",
    "\n",
    "Xtest_opt = ordEnc.fit_transform(X_test)\n",
    "Xtest_opt = Xtest_opt.astype({'original_priority':'int64','priority':'int64', 'number_of_alarms':'int64'})"
   ]
  },
  {
   "cell_type": "code",
   "execution_count": 69,
   "metadata": {},
   "outputs": [
    {
     "data": {
      "text/plain": [
       "1    98359\n",
       "2       51\n",
       "Name: number_of_alarms, dtype: int64"
      ]
     },
     "execution_count": 69,
     "metadata": {},
     "output_type": "execute_result"
    }
   ],
   "source": [
    "dataset['number_of_alarms'].value_counts()"
   ]
  },
  {
   "cell_type": "code",
   "execution_count": 70,
   "metadata": {},
   "outputs": [
    {
     "data": {
      "text/html": [
       "<div>\n",
       "<style scoped>\n",
       "    .dataframe tbody tr th:only-of-type {\n",
       "        vertical-align: middle;\n",
       "    }\n",
       "\n",
       "    .dataframe tbody tr th {\n",
       "        vertical-align: top;\n",
       "    }\n",
       "\n",
       "    .dataframe thead th {\n",
       "        text-align: right;\n",
       "    }\n",
       "</style>\n",
       "<table border=\"1\" class=\"dataframe\">\n",
       "  <thead>\n",
       "    <tr style=\"text-align: right;\">\n",
       "      <th></th>\n",
       "      <th>call_Type</th>\n",
       "      <th>fire_prevention_district</th>\n",
       "      <th>neighborhoods_analysis_boundaries</th>\n",
       "      <th>number_of_alarms</th>\n",
       "      <th>original_priority</th>\n",
       "      <th>priority</th>\n",
       "      <th>unit_type</th>\n",
       "    </tr>\n",
       "  </thead>\n",
       "  <tbody>\n",
       "    <tr>\n",
       "      <td>720</td>\n",
       "      <td>Traffic Collision</td>\n",
       "      <td>8</td>\n",
       "      <td>Sunset/Parkside</td>\n",
       "      <td>-1</td>\n",
       "      <td>3</td>\n",
       "      <td>3</td>\n",
       "      <td>ENGINE</td>\n",
       "    </tr>\n",
       "    <tr>\n",
       "      <td>710</td>\n",
       "      <td>Medical Incident</td>\n",
       "      <td>6</td>\n",
       "      <td>Mission</td>\n",
       "      <td>-1</td>\n",
       "      <td>6</td>\n",
       "      <td>2</td>\n",
       "      <td>MEDIC</td>\n",
       "    </tr>\n",
       "    <tr>\n",
       "      <td>170</td>\n",
       "      <td>Medical Incident</td>\n",
       "      <td>7</td>\n",
       "      <td>Presidio</td>\n",
       "      <td>-1</td>\n",
       "      <td>6</td>\n",
       "      <td>2</td>\n",
       "      <td>ENGINE</td>\n",
       "    </tr>\n",
       "    <tr>\n",
       "      <td>354</td>\n",
       "      <td>Medical Incident</td>\n",
       "      <td>3</td>\n",
       "      <td>South of Market</td>\n",
       "      <td>-1</td>\n",
       "      <td>7</td>\n",
       "      <td>3</td>\n",
       "      <td>MEDIC</td>\n",
       "    </tr>\n",
       "    <tr>\n",
       "      <td>120</td>\n",
       "      <td>Medical Incident</td>\n",
       "      <td>1</td>\n",
       "      <td>Financial District/South Beach</td>\n",
       "      <td>-1</td>\n",
       "      <td>7</td>\n",
       "      <td>2</td>\n",
       "      <td>ENGINE</td>\n",
       "    </tr>\n",
       "    <tr>\n",
       "      <td>...</td>\n",
       "      <td>...</td>\n",
       "      <td>...</td>\n",
       "      <td>...</td>\n",
       "      <td>...</td>\n",
       "      <td>...</td>\n",
       "      <td>...</td>\n",
       "      <td>...</td>\n",
       "    </tr>\n",
       "    <tr>\n",
       "      <td>360</td>\n",
       "      <td>Medical Incident</td>\n",
       "      <td>2</td>\n",
       "      <td>South of Market</td>\n",
       "      <td>-1</td>\n",
       "      <td>6</td>\n",
       "      <td>1</td>\n",
       "      <td>RESCUE CAPTAIN</td>\n",
       "    </tr>\n",
       "    <tr>\n",
       "      <td>781</td>\n",
       "      <td>Medical Incident</td>\n",
       "      <td>2</td>\n",
       "      <td>Mission</td>\n",
       "      <td>-1</td>\n",
       "      <td>7</td>\n",
       "      <td>3</td>\n",
       "      <td>ENGINE</td>\n",
       "    </tr>\n",
       "    <tr>\n",
       "      <td>76</td>\n",
       "      <td>Medical Incident</td>\n",
       "      <td>2</td>\n",
       "      <td>Tenderloin</td>\n",
       "      <td>-1</td>\n",
       "      <td>7</td>\n",
       "      <td>3</td>\n",
       "      <td>MEDIC</td>\n",
       "    </tr>\n",
       "    <tr>\n",
       "      <td>879</td>\n",
       "      <td>Medical Incident</td>\n",
       "      <td>1</td>\n",
       "      <td>Nob Hill</td>\n",
       "      <td>-1</td>\n",
       "      <td>6</td>\n",
       "      <td>2</td>\n",
       "      <td>ENGINE</td>\n",
       "    </tr>\n",
       "    <tr>\n",
       "      <td>44</td>\n",
       "      <td>Medical Incident</td>\n",
       "      <td>2</td>\n",
       "      <td>Mission</td>\n",
       "      <td>-1</td>\n",
       "      <td>6</td>\n",
       "      <td>2</td>\n",
       "      <td>ENGINE</td>\n",
       "    </tr>\n",
       "  </tbody>\n",
       "</table>\n",
       "<p>78728 rows × 7 columns</p>\n",
       "</div>"
      ],
      "text/plain": [
       "             call_Type fire_prevention_district  \\\n",
       "720  Traffic Collision                        8   \n",
       "710   Medical Incident                        6   \n",
       "170   Medical Incident                        7   \n",
       "354   Medical Incident                        3   \n",
       "120   Medical Incident                        1   \n",
       "..                 ...                      ...   \n",
       "360   Medical Incident                        2   \n",
       "781   Medical Incident                        2   \n",
       "76    Medical Incident                        2   \n",
       "879   Medical Incident                        1   \n",
       "44    Medical Incident                        2   \n",
       "\n",
       "    neighborhoods_analysis_boundaries  number_of_alarms  original_priority  \\\n",
       "720                   Sunset/Parkside                -1                  3   \n",
       "710                           Mission                -1                  6   \n",
       "170                          Presidio                -1                  6   \n",
       "354                   South of Market                -1                  7   \n",
       "120    Financial District/South Beach                -1                  7   \n",
       "..                                ...               ...                ...   \n",
       "360                   South of Market                -1                  6   \n",
       "781                           Mission                -1                  7   \n",
       "76                         Tenderloin                -1                  7   \n",
       "879                          Nob Hill                -1                  6   \n",
       "44                            Mission                -1                  6   \n",
       "\n",
       "     priority       unit_type  \n",
       "720         3          ENGINE  \n",
       "710         2           MEDIC  \n",
       "170         2          ENGINE  \n",
       "354         3           MEDIC  \n",
       "120         2          ENGINE  \n",
       "..        ...             ...  \n",
       "360         1  RESCUE CAPTAIN  \n",
       "781         3          ENGINE  \n",
       "76          3           MEDIC  \n",
       "879         2          ENGINE  \n",
       "44          2          ENGINE  \n",
       "\n",
       "[78728 rows x 7 columns]"
      ]
     },
     "execution_count": 70,
     "metadata": {},
     "output_type": "execute_result"
    }
   ],
   "source": [
    "Xtrain_opt"
   ]
  },
  {
   "cell_type": "markdown",
   "metadata": {},
   "source": [
    "we still want to one hot encode all the other features, meaning we will have a combination of one-hot encoded data and ordinally encoded data. in order to transform different column groups separately, we need to use the ColumnTransformer. it's a simple tool where we just have to tell it which encoder to use on which columns\n",
    "\n",
    "then we can use the column transformer to fit_transform the raw training and test data."
   ]
  },
  {
   "cell_type": "code",
   "execution_count": 71,
   "metadata": {},
   "outputs": [],
   "source": [
    "from sklearn.compose import ColumnTransformer\n",
    "    \n",
    "ordinal_features = ['number_of_alarms','original_priority','priority']\n",
    "categorical_features = ['call_Type','fire_prevention_district', 'neighborhoods_analysis_boundaries', 'unit_type']\n",
    "\n",
    "ohe_train = OneHotEncoder(handle_unknown = 'ignore')\n",
    "\n",
    "colTrans_train = ColumnTransformer(transformers = [\n",
    "\n",
    "    ('cat_train',ohe_train, categorical_features),\n",
    "    ('ord',ordEnc,ordinal_features)\n",
    "])"
   ]
  },
  {
   "cell_type": "code",
   "execution_count": 72,
   "metadata": {},
   "outputs": [],
   "source": [
    "Xtrain_opt_enc = colTrans_train.fit_transform(Xtrain_opt)\n",
    "\n",
    "ohe_train_categories = colTrans_train.named_transformers_['cat_train'].categories_"
   ]
  },
  {
   "cell_type": "code",
   "execution_count": 73,
   "metadata": {},
   "outputs": [],
   "source": [
    "\n",
    "\n",
    "ohe_test = OneHotEncoder(categories = ohe_train_categories, handle_unknown = 'ignore')\n",
    "\n",
    "colTrans_test = ColumnTransformer(transformers = [\n",
    "    ('cat_test',ohe_test, categorical_features),\n",
    "    ('ord',ordEnc,ordinal_features)\n",
    "])\n",
    "\n",
    "Xtest_opt_enc = colTrans_test.fit_transform(Xtest_opt)"
   ]
  },
  {
   "cell_type": "code",
   "execution_count": 74,
   "metadata": {},
   "outputs": [
    {
     "name": "stdout",
     "output_type": "stream",
     "text": [
      "(78728, 94)\n",
      "(19682, 94)\n"
     ]
    }
   ],
   "source": [
    "print(Xtrain_opt_enc.shape)\n",
    "print(Xtest_opt_enc.shape)"
   ]
  },
  {
   "cell_type": "markdown",
   "metadata": {},
   "source": [
    "before, when all our features were one hot encoded, there was no need to apply any center/scaling because after encoding, the values in the columns would have all been either 0 or 1. now that we have some integer values in there, we need to center and scale the data before we fit any models to it.\n",
    "\n",
    "there a few options of how to scale the data, so we'll try them all\n",
    "\n",
    "then we can fit and predict all the models in our queue as before and append their scores to the scores dataframe"
   ]
  },
  {
   "cell_type": "code",
   "execution_count": 75,
   "metadata": {},
   "outputs": [],
   "source": [
    "from sklearn.preprocessing import MinMaxScaler\n",
    "from sklearn.preprocessing import MaxAbsScaler\n",
    "from sklearn.preprocessing import StandardScaler\n",
    "\n",
    "mms = MinMaxScaler()\n",
    "mas = MaxAbsScaler()\n",
    "sts = StandardScaler(with_mean = False)\n",
    "\n",
    "Xtrain_enc_opt_scaled = sts.fit_transform(Xtrain_opt_enc)\n",
    "Xtest_enc_opt_scaled = sts.fit_transform(Xtest_opt_enc)\n"
   ]
  },
  {
   "cell_type": "code",
   "execution_count": 76,
   "metadata": {},
   "outputs": [
    {
     "name": "stdout",
     "output_type": "stream",
     "text": [
      "(78728, 94)\n",
      "(19682, 94)\n",
      "(19682,)\n"
     ]
    }
   ],
   "source": [
    "print(Xtrain_enc_opt_scaled.shape)\n",
    "print(Xtest_enc_opt_scaled.shape)\n",
    "print(y_test.shape)"
   ]
  },
  {
   "cell_type": "code",
   "execution_count": 77,
   "metadata": {
    "scrolled": true
   },
   "outputs": [
    {
     "name": "stdout",
     "output_type": "stream",
     "text": [
      "fitting  LinearRegression(normalize=True)\n",
      "fitting  RidgeCV(alphas=array([ 0.1,  1. , 10. ]))\n",
      "               model     score\n",
      "0   LinearRegression  0.186078\n",
      "1       SGDRegressor  0.179902\n",
      "2              Ridge  0.186039\n",
      "3            RidgeCV  0.186036\n",
      "4              Lasso -0.000003\n",
      "5            LassoCV  0.180891\n",
      "6          LinearSVR  0.135936\n",
      "7          LinearSVR  0.141865\n",
      "8          LinearSVR  0.138006\n",
      "9         ElasticNet -0.000003\n",
      "10  LinearRegression  0.070349\n",
      "11           RidgeCV  0.070350\n",
      "    RMSE score             model\n",
      "0     1.787808  LinearRegression\n",
      "1     1.794579      SGDRegressor\n",
      "2     1.787851             Ridge\n",
      "3     1.787855           RidgeCV\n",
      "4     1.981666             Lasso\n",
      "5     1.793497           LassoCV\n",
      "6     1.842055         LinearSVR\n",
      "7     1.835725         LinearSVR\n",
      "8     1.839848         LinearSVR\n",
      "9     1.981666        ElasticNet\n",
      "10    1.910687  LinearRegression\n",
      "11    1.910686           RidgeCV\n"
     ]
    }
   ],
   "source": [
    "models = [lr,sgdr,ridge_cv,lasso_cv,elNet]\n",
    "models = [lr, ridge_cv]\n",
    "scores, rmse_scores = fitPredictScore(models,Xtrain_enc_opt_scaled,y_train,Xtest_enc_opt_scaled, y_test, scores, rmse_scores)\n",
    "    \n",
    "print(scores)\n",
    "print(rmse_scores)"
   ]
  },
  {
   "cell_type": "markdown",
   "metadata": {},
   "source": [
    "unfortunately, these did not help our scores. nor did they help the SVR estimators converge. this surprises me, as i would think that ordinal encoding of the appropriate features would make for a more accurate model. but i guess not."
   ]
  },
  {
   "cell_type": "markdown",
   "metadata": {},
   "source": [
    "# Further thoughts and discussion of possible next steps\n",
    "\n",
    "in the course, the instructors claim victory by bettering the baseline predictions by ~0.3 minutes. but that's not very satisfying for me. but it seems like we've done all we can do with the features that the course has selected. they probably did their homework and found that these fields had the strongest correlation to the response duration. i'm sure there is also a strong correlation between response duration and the distance between the incident and the fire house that dispatched the unit. as well as time-of-day. but these seem a bit too obvious to me. i would rather find a connection to something lurking beneath the surface. hence my satisfaction with finding the connections between priority and unit type.\n",
    "\n",
    "to satisfy my curiosity, i searched for other projects that are similar to what i've attempted. and i found one that's almost exactly the same. https://medium.com/crim/predicting-the-response-times-of-firefighters-using-data-science-da79f6965f93\n",
    "\n",
    "in this project, Mr. Pecoraro endeavours to predict response times of the montreal fire department in a very similar way. he uncovers that his response times, too, are heavily influenced by the style of unit being dispatched. and not only that, he breaks the set down into \"faster units\" and \"slower units\" and finds that they have different distributions. hence, he splits up the dataset, and uses two different models - one for each style of unit. and his goal is also to beat a predictive model that simply predicts the average response time. he uses more features, like time-of-day. which is encouraging, and means maybe we can incorporate that feature into our predictive model here. a possible flaw in his approach is that he uses all calls before 2016 as his training set, and all calls after 2016 as his test set. this ignores any personnel/protocol/procedural/equipment changes that may have occured in the MPD between those two timespans. regardless, using machine learning algorithms, he was able to improve his prediction errors. quoting, \"The mean absolute error (MAE) decreased from 17.8 seconds (baseline) to 15.7 seconds (XGBoost). When evaluating the model on the slower units only, the MAE decreased from 158 seconds to 85.6 seconds. When evaluating the faster units only, the error decreased from 16.9 seconds to 15.2 seconds.\"\n",
    "\n",
    "this makes me feel better about my prediction accuracy improving by 14% from baseline.\n",
    "\n",
    "regardless, as a final effort, let's see what happens when we incorporate received_dttm (time-of-day when call was received) as a continuous input feature. \n"
   ]
  },
  {
   "cell_type": "markdown",
   "metadata": {},
   "source": [
    "# adding timestamp of call as a continuous input feature\n",
    "\n",
    "first, let's check to see if there's any correlation between the date and time of the call, and the response duration. i wouldn't think there should be. and even if there is, i would think it would be cyclical with a period of days or weeks, with slower response times ocurring during rush hours or holidays."
   ]
  },
  {
   "cell_type": "code",
   "execution_count": 78,
   "metadata": {},
   "outputs": [
    {
     "name": "stderr",
     "output_type": "stream",
     "text": [
      "C:\\Users\\admin\\Anaconda3\\lib\\site-packages\\pandas\\plotting\\_matplotlib\\converter.py:103: FutureWarning: Using an implicitly registered datetime converter for a matplotlib plotting method. The converter was registered by pandas on import. Future versions of pandas will require you to explicitly register matplotlib converters.\n",
      "\n",
      "To register the converters:\n",
      "\t>>> from pandas.plotting import register_matplotlib_converters\n",
      "\t>>> register_matplotlib_converters()\n",
      "  warnings.warn(msg, FutureWarning)\n"
     ]
    },
    {
     "data": {
      "image/png": "[encoded data removed]",
      "text/plain": [
       "<Figure size 432x288 with 1 Axes>"
      ]
     },
     "metadata": {
      "needs_background": "light"
     },
     "output_type": "display_data"
    },
    {
     "data": {
      "image/png": "[encoded data removed]",
      "text/plain": [
       "<Figure size 432x288 with 1 Axes>"
      ]
     },
     "metadata": {
      "needs_background": "light"
     },
     "output_type": "display_data"
    }
   ],
   "source": [
    "\n",
    "\n",
    "plt.figure()\n",
    "plt.scatter(dataset['received_dttm'], dataset['response duration'])\n",
    "plt.show()\n",
    "\n",
    "recent_calls = dataset[dataset['received_dttm'].between('2019-07-01','2019-07-31')]\n",
    "plt.figure()\n",
    "plt.scatter(recent_calls['received_dttm'], recent_calls['response duration'])\n",
    "plt.show()"
   ]
  },
  {
   "cell_type": "markdown",
   "metadata": {},
   "source": [
    "looks like no visible correlation, but let's try it anyway.\n",
    "\n",
    "a quick recap of steps:\n",
    "- create new X and Y set from original dataset, but with received_dttm column included.\n",
    "- convert received_dttm column to an integer timestamp (because sklearn models can't handle python datetimes as an input)\n",
    "- use column transformer to one-hot encode all features except received_dttm (as int)\n",
    "- perform feature scaling on timestamp column, using a max-absolute scaler (only one that can handle a sparse matrix)\n",
    "- fit/predict/score the linear regressor estimator, and compare scores"
   ]
  },
  {
   "cell_type": "code",
   "execution_count": 79,
   "metadata": {},
   "outputs": [
    {
     "name": "stdout",
     "output_type": "stream",
     "text": [
      "(98410, 7)\n",
      "(98410, 8)\n"
     ]
    }
   ],
   "source": [
    "X2 = dataset.drop(['travel time','response duration','dispatch_dttm','response_dttm', 'rowid'], axis=1)\n",
    "y = dataset['response duration']\n",
    "\n",
    "\n",
    "print(X.shape)\n",
    "print(X2.shape)"
   ]
  },
  {
   "cell_type": "code",
   "execution_count": 80,
   "metadata": {},
   "outputs": [
    {
     "data": {
      "text/plain": [
       "call_Type                            object\n",
       "fire_prevention_district             object\n",
       "neighborhoods_analysis_boundaries    object\n",
       "number_of_alarms                      int32\n",
       "original_priority                    object\n",
       "priority                             object\n",
       "unit_type                            object\n",
       "received_dttm_int                     int64\n",
       "dtype: object"
      ]
     },
     "execution_count": 80,
     "metadata": {},
     "output_type": "execute_result"
    }
   ],
   "source": [
    "import datetime as dt\n",
    "import time as time\n",
    "X2['received_dttm_int'] =X2['received_dttm'].values.astype(np.int64) // 10 ** 9\n",
    "X2 = X2.drop(['received_dttm'], axis = 1)\n",
    "X2.dtypes"
   ]
  },
  {
   "cell_type": "code",
   "execution_count": 81,
   "metadata": {},
   "outputs": [],
   "source": [
    "X2_train, X2_test, y_train, y_test = train_test_split(X2, y, test_size=0.2, random_state=42)"
   ]
  },
  {
   "cell_type": "code",
   "execution_count": 82,
   "metadata": {},
   "outputs": [
    {
     "data": {
      "text/plain": [
       "[array(['Administrative', 'Alarms', 'Assist Police',\n",
       "        'Citizen Assist / Service Call',\n",
       "        'Confined Space / Structure Collapse', 'Electrical Hazard',\n",
       "        'Elevator / Escalator Rescue', 'Explosion',\n",
       "        'Extrication / Entrapped (Machinery, Vehicle)', 'Fuel Spill',\n",
       "        'Gas Leak (Natural and LP Gases)', 'HazMat', 'High Angle Rescue',\n",
       "        'Industrial Accidents', 'Marine Fire', 'Medical Incident',\n",
       "        'Mutual Aid / Assist Outside Agency', 'Odor (Strange / Unknown)',\n",
       "        'Other', 'Outside Fire', 'Smoke Investigation (Outside)',\n",
       "        'Structure Fire', 'Traffic Collision', 'Train / Rail Fire',\n",
       "        'Train / Rail Incident', 'Vehicle Fire', 'Water Rescue',\n",
       "        'Watercraft in Distress'], dtype=object),\n",
       " array(['1', '10', '2', '3', '4', '5', '6', '7', '8', '9', 'None'],\n",
       "       dtype=object),\n",
       " array(['Bayview Hunters Point', 'Bernal Heights', 'Castro/Upper Market',\n",
       "        'Chinatown', 'Excelsior', 'Financial District/South Beach',\n",
       "        'Glen Park', 'Golden Gate Park', 'Haight Ashbury', 'Hayes Valley',\n",
       "        'Inner Richmond', 'Inner Sunset', 'Japantown', 'Lakeshore',\n",
       "        'Lincoln Park', 'Lone Mountain/USF', 'Marina', 'McLaren Park',\n",
       "        'Mission', 'Mission Bay', 'Nob Hill', 'Noe Valley', 'None',\n",
       "        'North Beach', 'Oceanview/Merced/Ingleside', 'Outer Mission',\n",
       "        'Outer Richmond', 'Pacific Heights', 'Portola', 'Potrero Hill',\n",
       "        'Presidio', 'Presidio Heights', 'Russian Hill', 'Seacliff',\n",
       "        'South of Market', 'Sunset/Parkside', 'Tenderloin',\n",
       "        'Treasure Island', 'Twin Peaks', 'Visitacion Valley',\n",
       "        'West of Twin Peaks', 'Western Addition'], dtype=object),\n",
       " array(['AIRPORT', 'CHIEF', 'ENGINE', 'INVESTIGATION', 'MEDIC', 'PRIVATE',\n",
       "        'RESCUE CAPTAIN', 'RESCUE SQUAD', 'SUPPORT', 'TRUCK'], dtype=object),\n",
       " array([1, 2]),\n",
       " array(['1', '2', '3', 'A', 'B', 'C', 'E', 'I'], dtype=object),\n",
       " array(['1', '2', '3', 'A', 'E', 'I'], dtype=object)]"
      ]
     },
     "execution_count": 82,
     "metadata": {},
     "output_type": "execute_result"
    }
   ],
   "source": [
    "categorical_features = ['call_Type','fire_prevention_district', 'neighborhoods_analysis_boundaries', 'unit_type','number_of_alarms','original_priority','priority']\n",
    "continuous_features  = ['received_dttm_int']\n",
    "\n",
    "ohe_train = OneHotEncoder(handle_unknown = 'ignore')\n",
    "\n",
    "colTrans = ColumnTransformer(transformers = [\n",
    "    ('cat',ohe_train, categorical_features)], remainder = 'passthrough')\n",
    "\n",
    "X2_train_enc = colTrans.fit_transform(X2_train)\n",
    "\n",
    "ohe_train_categories = colTrans.named_transformers_['cat'].categories_\n",
    "ohe_train_categories"
   ]
  },
  {
   "cell_type": "code",
   "execution_count": null,
   "metadata": {},
   "outputs": [],
   "source": []
  },
  {
   "cell_type": "code",
   "execution_count": 83,
   "metadata": {},
   "outputs": [
    {
     "name": "stdout",
     "output_type": "stream",
     "text": [
      "(78728, 108)\n",
      "(19682, 108)\n"
     ]
    }
   ],
   "source": [
    "ohe_test = OneHotEncoder(categories = ohe_train_categories, handle_unknown = 'ignore')\n",
    "\n",
    "colTrans = ColumnTransformer(transformers = [\n",
    "    ('cat',ohe_test, categorical_features)], remainder = 'passthrough')\n",
    "\n",
    "X2_test_enc = colTrans.fit_transform(X2_test)\n",
    "\n",
    "print(X2_train_enc.shape)\n",
    "print(X2_test_enc.shape)\n"
   ]
  },
  {
   "cell_type": "code",
   "execution_count": 84,
   "metadata": {},
   "outputs": [],
   "source": [
    "mms = MinMaxScaler()\n",
    "mas = MaxAbsScaler()\n",
    "sts = StandardScaler(with_mean = False)\n",
    "\n",
    "X2train_enc_opt_scaled = mas.fit_transform(X2_train_enc)\n",
    "X2test_enc_opt_scaled = mas.fit_transform(X2_test_enc)"
   ]
  },
  {
   "cell_type": "code",
   "execution_count": 85,
   "metadata": {
    "scrolled": true
   },
   "outputs": [
    {
     "name": "stdout",
     "output_type": "stream",
     "text": [
      "fitting  LinearRegression(normalize=True)\n",
      "fitting  Ridge(alpha=1)\n",
      "               model     score\n",
      "0   LinearRegression  0.186078\n",
      "2              Ridge  0.186039\n",
      "3            RidgeCV  0.186036\n",
      "13             Ridge  0.186005\n",
      "12  LinearRegression  0.185991\n",
      "5            LassoCV  0.180891\n",
      "1       SGDRegressor  0.179902\n",
      "7          LinearSVR  0.141865\n",
      "8          LinearSVR  0.138006\n",
      "6          LinearSVR  0.135936\n",
      "11           RidgeCV  0.070350\n",
      "10  LinearRegression  0.070349\n",
      "4              Lasso -0.000003\n",
      "9         ElasticNet -0.000003\n"
     ]
    }
   ],
   "source": [
    "models = [lr, ridge]\n",
    "scores, rmse_scores = fitPredictScore(models, X2train_enc_opt_scaled, y_train, X2test_enc_opt_scaled, y_test,scores, rmse_scores)\n",
    "print(scores.sort_values(by='score',ascending = False))"
   ]
  },
  {
   "cell_type": "code",
   "execution_count": null,
   "metadata": {
    "scrolled": true
   },
   "outputs": [],
   "source": []
  },
  {
   "cell_type": "code",
   "execution_count": null,
   "metadata": {},
   "outputs": [],
   "source": []
  },
  {
   "cell_type": "markdown",
   "metadata": {},
   "source": [
    "ok so it turns out adding the timestamp of the call as a feature still doesn't help the model prediction. looks like the course really did their homework and taught the best model, which also happened to be the simplest.\n",
    "\n",
    "but let's try and go one step further. we know that the 2nd most important feature is unit_type. and we know Mr. Pecoraro got good results when he split this group up. so let's give that a try. first, let's take a look at the correlation between unit_type and response duration. we see that \"investigations\" tend to take much longer than other incidents. makes sense. let's see what the distribution is of that one unit_type\n",
    "\n"
   ]
  },
  {
   "cell_type": "code",
   "execution_count": null,
   "metadata": {},
   "outputs": [],
   "source": []
  },
  {
   "cell_type": "code",
   "execution_count": 86,
   "metadata": {},
   "outputs": [
    {
     "data": {
      "text/plain": [
       "14.000000    2\n",
       "11.016667    2\n",
       "3.645492     2\n",
       "0.000000     1\n",
       "9.500000     1\n",
       "11.133333    1\n",
       "9.716667     1\n",
       "11.416667    1\n",
       "11.600000    1\n",
       "13.900000    1\n",
       "14.916667    1\n",
       "3.816667     1\n",
       "11.866667    1\n",
       "5.483333     1\n",
       "14.516667    1\n",
       "8.050000     1\n",
       "6.716667     1\n",
       "9.650000     1\n",
       "14.333333    1\n",
       "10.016667    1\n",
       "Name: response duration, dtype: int64"
      ]
     },
     "execution_count": 86,
     "metadata": {},
     "output_type": "execute_result"
    },
    {
     "data": {
      "image/png": "[encoded data removed]",
      "text/plain": [
       "<Figure size 432x288 with 1 Axes>"
      ]
     },
     "metadata": {
      "needs_background": "light"
     },
     "output_type": "display_data"
    }
   ],
   "source": [
    "subset = dataset[dataset['unit_type']=='INVESTIGATION']\n",
    "plt.hist(subset['response duration'])\n",
    "subset['response duration'].value_counts()"
   ]
  },
  {
   "cell_type": "markdown",
   "metadata": {},
   "source": [
    "that's a pretty unfriendly distribution. and implies that when the \"investigation\" unit is sent, response times can be quite long. but maybe that's because an \"investigation\" get dispatched to the same incident, alongside other, higher-priority units that can respond to incidents more quickly.\n",
    "\n",
    "given the unfriendliness of this distribution, the model may improve if we remove these \"investigation\" observations from the training set. but then again, there are only 20 observations like this out of a set of 100k samples. so it probably won't change the model at all."
   ]
  },
  {
   "cell_type": "code",
   "execution_count": 87,
   "metadata": {},
   "outputs": [
    {
     "data": {
      "text/plain": [
       "0.0    7\n",
       "Name: response duration, dtype: int64"
      ]
     },
     "execution_count": 87,
     "metadata": {},
     "output_type": "execute_result"
    },
    {
     "data": {
      "image/png": "[encoded data removed]",
      "text/plain": [
       "<Figure size 432x288 with 1 Axes>"
      ]
     },
     "metadata": {
      "needs_background": "light"
     },
     "output_type": "display_data"
    }
   ],
   "source": [
    "subset = dataset[dataset['unit_type']=='AIRPORT']\n",
    "plt.hist(subset['response duration'])\n",
    "subset['response duration'].value_counts()"
   ]
  },
  {
   "cell_type": "markdown",
   "metadata": {},
   "source": [
    "this is another interesting connection. any unit types with the value \"airport\", all have zero as their response duration. this is probably because these units are responding to incidents at there airport, and there is a fire station inside the airport. pulling these out of the dataset would probably improve the model. but there are only 9 observations like this in a dataset of 100k observations. so it probably won't change at all."
   ]
  },
  {
   "cell_type": "markdown",
   "metadata": {},
   "source": [
    "well i think that's all the time i have for now. a few final thoughts before i sign off...\n",
    "\n",
    "future ideas for a stronger model:\n",
    "- either use another model to predict the priority of the indcident from other features, or remove it from the model.\n",
    "- incorporate distance between fire stations and incident location as an input feature (would require GPS coordinates of all firehouses)\n",
    "- check distribution of all unit_types for skewness. if necessary, split into two datasets (and hence two models), with each one being a group of units. perhaps a \"faster units\" and \"slower units\" as Mr. Pecoraro has done\n",
    "- in order to achieve a better model score, perhaps we could run a clustering model on the resonse_durations and cluster them into groups of \"average speed\", \"above average\", and \"below average\". then run a classification model on the input features to simply predict whether the response speed will be \"fast\", \"average\", or \"slow\". realistically, this may not have as impactful of an application as predicting a continuous response time in minutes, but all we care about is model score, this may help."
   ]
  },
  {
   "cell_type": "markdown",
   "metadata": {},
   "source": [
    "finally, thanks for following along with my work. if you have any questions or suggestions for improvement or new projects, please feel free to raise an issue on GitHub or email me at Benjamin.A.Cohen.90@gmail.com.\n",
    "\n",
    "some ideas for future projects, from my hobbies:\n",
    "- prediction of \"sonic coincidences\" (when one song unintentionally sounds similar to another) using spotify data\n",
    "- analysis of bike makes/models/sales using Strava data"
   ]
  }
 ],
 "metadata": {
  "kernelspec": {
   "display_name": "Python 3",
   "language": "python",
   "name": "python3"
  },
  "language_info": {
   "codemirror_mode": {
    "name": "ipython",
    "version": 3
   },
   "file_extension": ".py",
   "mimetype": "text/x-python",
   "name": "python",
   "nbconvert_exporter": "python",
   "pygments_lexer": "ipython3",
   "version": "3.7.4"
  }
 },
 "nbformat": 4,
 "nbformat_minor": 4
}
